{
  "cells": [
    {
      "cell_type": "markdown",
      "metadata": {
        "id": "0aStgWSO0E0E"
      },
      "source": [
        "<div style='background-color:#0C9A66; padding: 15px; border-radius: 5px;'>\n",
        "<h1 style='color:#FEFEFE; text-align:center;'>Thyroid Cancer Risk Analysis – Data Analytics Project</h1>\n",
        "</div>"
      ]
    },
    {
      "cell_type": "markdown",
      "metadata": {
        "id": "1eLEkw5O0ECa"
      },
      "source": [
        "<h2 style='color:#0C9A66;'>Objectives</h2>\n",
        "\n",
        "- Load and preprocess the thyroid cancer risk dataset.\n",
        "- Perform exploratory data analysis (EDA) to understand data distribution and relationships.\n",
        "- Identify key risk factors associated with thyroid cancer.\n",
        "- Engineer new features for better predictive modeling.\n",
        "- Develop data visualizations to support insights.\n",
        "- Store cleaned and processed data for further analysis and model training.\n",
        "\n",
        "\n",
        "<h2 style='color:#0C9A66;'>Inputs</h2>\n",
        "\n",
        "- **Dataset:** `thyroid_cancer_risk_data.csv`\n",
        "- **Required Libraries:** Pandas, NumPy, Matplotlib, Seaborn, Scikit-learn, Plotly\n",
        "- **Columns of Interest:**\n",
        "  - **Demographics:** Age, Gender, Ethnicity, Country\n",
        "  - **Medical Indicators:** TSH, T3, T4 levels, Nodule Size\n",
        "  - **Risk Factors:** Family History, Radiation Exposure, Iodine Deficiency, Smoking, Obesity, Diabetes\n",
        "  - **Outcome Variables:** Thyroid Cancer Risk (Low, Medium, High), Diagnosis (Benign, Malignant)\n",
        "\n",
        "\n",
        "<h2 style='color:#0C9A66;'>Outputs</h2>\n",
        "\n",
        "- **Cleaned dataset:** Processed dataset stored as a CSV file for analysis (`cleaned_thyroid_data.csv`).\n",
        "- **Exploratory Data Analysis (EDA) Visuals:**\n",
        "  - Distribution of thyroid cancer risk across demographics.\n",
        "  - Correlation heatmap of medical indicators.\n",
        "  - Bar charts and scatter plots showing key risk factor influences.\n",
        "  - Box plots for age and gender analysis.\n",
        "- **Feature-engineered dataset:** Enhanced dataset with new derived features.\n",
        "- **Insights & Summary Reports:** Key findings documented for further decision-making.\n",
        "\n",
        "<h2 style='color:#0C9A66;'>Additional Comments</h2>\n",
        "\n",
        "- Ensure proper handling of missing values and outliers to maintain data integrity.\n",
        "- Perform bias detection to identify imbalances in demographic representation.\n",
        "- Use visualization techniques to communicate insights effectively to both technical and non-technical stakeholders.\n"
      ]
    },
    {
      "cell_type": "markdown",
      "metadata": {},
      "source": [
        "<div style='background-color:#0C9A66; padding: 15px; border-radius: 5px;'>\n",
        "<h1 style='color:#FEFEFE; text-align:center;'>Thyroid Cancer Risk Analysis – Data Analytics Project</h1>\n",
        "</div>"
      ]
    },
    {
      "cell_type": "markdown",
      "metadata": {},
      "source": [
        "<h2 style='color:#0C9A66;'>Objectives</h2>\n",
        "\n",
        "- Load and preprocess the thyroid cancer risk dataset.\n",
        "- Perform exploratory data analysis (EDA) to understand data distribution and relationships.\n",
        "- Identify key risk factors associated with thyroid cancer.\n",
        "- Engineer new features for better predictive modeling.\n",
        "- Develop data visualizations to support insights.\n",
        "- Store cleaned and processed data for further analysis and model training.\n",
        "\n",
        "\n",
        "<h2 style='color:#0C9A66;'>Inputs</h2>\n",
        "\n",
        "- **Dataset:** `thyroid_cancer_risk_data.csv`\n",
        "- **Required Libraries:** Pandas, NumPy, Matplotlib, Seaborn, Scikit-learn, Plotly\n",
        "- **Columns of Interest:**\n",
        "  - **Demographics:** Age, Gender, Ethnicity, Country\n",
        "  - **Medical Indicators:** TSH, T3, T4 levels, Nodule Size\n",
        "  - **Risk Factors:** Family History, Radiation Exposure, Iodine Deficiency, Smoking, Obesity, Diabetes\n",
        "  - **Outcome Variables:** Thyroid Cancer Risk (Low, Medium, High), Diagnosis (Benign, Malignant)\n",
        "\n",
        "\n",
        "<h2 style='color:#0C9A66;'>Outputs</h2>\n",
        "\n",
        "- **Cleaned dataset:** Processed dataset stored as a CSV file for analysis (`cleaned_thyroid_data.csv`).\n",
        "- **Exploratory Data Analysis (EDA) Visuals:**\n",
        "  - Distribution of thyroid cancer risk across demographics.\n",
        "  - Correlation heatmap of medical indicators.\n",
        "  - Bar charts and scatter plots showing key risk factor influences.\n",
        "  - Box plots for age and gender analysis.\n",
        "- **Feature-engineered dataset:** Enhanced dataset with new derived features.\n",
        "- **Insights & Summary Reports:** Key findings documented for further decision-making.\n",
        "\n",
        "<h2 style='color:#0C9A66;'>Additional Comments</h2>\n",
        "\n",
        "- Ensure proper handling of missing values and outliers to maintain data integrity.\n",
        "- Perform bias detection to identify imbalances in demographic representation.\n",
        "- Use visualization techniques to communicate insights effectively to both technical and non-technical stakeholders.\n"
      ]
    },
    {
      "cell_type": "markdown",
      "metadata": {},
      "source": [
        "---"
      ]
    },
    {
      "cell_type": "markdown",
      "metadata": {},
      "source": [
        "# Change working directory"
      ]
    },
    {
      "cell_type": "markdown",
      "metadata": {},
      "source": [
        "* We are assuming you will store the notebooks in a subfolder, therefore when running the notebook in the editor, you will need to change the working directory"
      ]
    },
    {
      "cell_type": "markdown",
      "metadata": {},
      "source": [
        "We need to change the working directory from its current folder to its parent folder\n",
        "* We access the current directory with os.getcwd()"
      ]
    },
    {
      "cell_type": "code",
      "execution_count": null,
      "metadata": {},
      "outputs": [],
      "source": [
        "import os\n",
        "current_dir = os.getcwd()\n",
        "current_dir"
      ]
    },
    {
      "cell_type": "markdown",
      "metadata": {},
      "source": [
        "We want to make the parent of the current directory the new current directory\n",
        "* os.path.dirname() gets the parent directory\n",
        "* os.chir() defines the new current directory"
      ]
    },
    {
      "cell_type": "code",
      "execution_count": null,
      "metadata": {},
      "outputs": [],
      "source": [
        "os.chdir(os.path.dirname(current_dir))\n",
        "print(\"You set a new current directory\")"
      ]
    },
    {
      "cell_type": "markdown",
      "metadata": {},
      "source": [
        "Confirm the new current directory"
      ]
    },
    {
      "cell_type": "code",
      "execution_count": null,
      "metadata": {},
      "outputs": [],
      "source": [
        "current_dir = os.getcwd()\n",
        "current_dir"
      ]
    },
    {
      "cell_type": "markdown",
      "metadata": {},
      "source": [
        "<div style='background-color:#0C9A66; padding: 15px; border-radius: 5px;'>\n",
        "<h1 style='color:#FEFEFE; text-align:left;'>Section 1 :  Data Extraction, Transformation, and Loading (ETL)</h1>\n",
        "</div>"
      ]
    },
    {
      "cell_type": "markdown",
      "metadata": {},
      "source": [
        "Setting up & Importing Python packages that we will be using in this project to carry out the analysis. For example Numpy to compute numerical operations and handle arrays, Pandas for data manipulation and analysis, Matplotlib, Seaborn and Plotly to create different data visualisations."
      ]
    },
    {
      "cell_type": "code",
      "execution_count": null,
      "metadata": {},
      "outputs": [],
      "source": [
        "import pandas as pd \n",
        "import numpy as np\n",
        "import matplotlib.pyplot as plt\n",
        "import seaborn as sns\n",
        "sns.set_style('whitegrid')\n",
        "import plotly.express as px"
      ]
    },
    {
      "cell_type": "markdown",
      "metadata": {},
      "source": [
        "Data Extraction"
      ]
    },
    {
      "cell_type": "markdown",
      "metadata": {},
      "source": [
        "Loading the CSV dataset containing the data collected previously and extracting it into dataframe using pd.read_csv() function."
      ]
    },
    {
      "cell_type": "code",
      "execution_count": null,
      "metadata": {},
      "outputs": [],
      "source": [
        "df = pd.read_csv(r\"C:\\Users\\dhent\\OneDrive\\Desktop\\Cancer Prediction\\Hackathon 2\\Thyroid-Risk-Analysis-1\\thyroid_cancer_risk_data_cleaned.csv\")\n"
      ]
    },
    {
      "cell_type": "markdown",
      "metadata": {},
      "source": [
        "Data Cleaning, Tranformation & Analysis "
      ]
    },
    {
      "cell_type": "markdown",
      "metadata": {},
      "source": [
        "Next checking the general information regarding the data such as column names, datatypes of columns, number of entries and the memory space used through .info() method."
      ]
    },
    {
      "cell_type": "code",
      "execution_count": null,
      "metadata": {},
      "outputs": [],
      "source": [
        "df.info()"
      ]
    },
    {
      "cell_type": "markdown",
      "metadata": {},
      "source": [
        "Reviewing top 5 entries in dataset to get a general overview of the dataset with .head() method"
      ]
    },
    {
      "cell_type": "code",
      "execution_count": null,
      "metadata": {},
      "outputs": [],
      "source": [
        "df.head()"
      ]
    },
    {
      "cell_type": "markdown",
      "metadata": {},
      "source": [
        "Checking for missing values"
      ]
    },
    {
      "cell_type": "code",
      "execution_count": null,
      "metadata": {},
      "outputs": [],
      "source": [
        "df.isnull().sum()"
      ]
    },
    {
      "cell_type": "markdown",
      "metadata": {},
      "source": [
        "Checking for each Column's datatype"
      ]
    },
    {
      "cell_type": "code",
      "execution_count": null,
      "metadata": {},
      "outputs": [],
      "source": [
        "df.dtypes"
      ]
    },
    {
      "cell_type": "markdown",
      "metadata": {},
      "source": [
        "Checking for any duplicate values in data"
      ]
    },
    {
      "cell_type": "code",
      "execution_count": null,
      "metadata": {},
      "outputs": [],
      "source": [
        "duplicate_check = df.duplicated().any()\n",
        "print('There are duplicate entries:', duplicate_check,'.')"
      ]
    },
    {
      "cell_type": "code",
      "execution_count": null,
      "metadata": {},
      "outputs": [],
      "source": [
        "# Check missing values\n",
        "df.isnull().sum()  # Shows count of missing values per column\n",
        "\n",
        "# Cleaning any empty values to 0 for easier numeric computation\n",
        "df.fillna(0)  # Fill all missing values with 0"
      ]
    },
    {
      "cell_type": "markdown",
      "metadata": {},
      "source": [
        "Dropping the patient ID column to anonimise the data with .drop() method and then rechecking if it has been dropped with .head() method."
      ]
    },
    {
      "cell_type": "code",
      "execution_count": null,
      "metadata": {},
      "outputs": [],
      "source": [
        "df = df.drop(columns=[\"Patient_ID\"])\n",
        "df.head()"
      ]
    },
    {
      "cell_type": "markdown",
      "metadata": {},
      "source": [
        "Generating a summary of the statistics of the dataset such mean, total count of entries,minimum and maximum values."
      ]
    },
    {
      "cell_type": "code",
      "execution_count": null,
      "metadata": {},
      "outputs": [],
      "source": [
        "df.describe()"
      ]
    },
    {
      "cell_type": "markdown",
      "metadata": {},
      "source": [
        "Save the cleaned dataset with the same name in the same directory after data cleaning and processing (dropping the Patient_ID column, etc...):"
      ]
    },
    {
      "cell_type": "code",
      "execution_count": null,
      "metadata": {},
      "outputs": [],
      "source": [
        "df.to_csv('thyroid_cancer_risk_data_cleaned.csv', index=False)\n"
      ]
    },
    {
      "cell_type": "markdown",
      "metadata": {},
      "source": [
        "<div style='background-color:#0C9A66; padding: 15px; border-radius: 5px;'>\n",
        "<h1 style='color:#FEFEFE; text-align:left;'>Section 2: Bias Detection</h1>\n",
        "</div>"
      ]
    },
    {
      "cell_type": "markdown",
      "metadata": {},
      "source": [
        "<h2 style='color:#0C9A66;'>Checking the data for any bias in any of the classes</h2>\n",
        "\n",
        "Bias in data can significantly affect the outcomes and interpretations of our analysis. It is crucial to identify and address any biases to ensure the validity and fairness of our results. In this section, we will check for potential biases in the dataset across different classes such as gender, age, ethnicity, and family history."
      ]
    },
    {
      "cell_type": "code",
      "execution_count": null,
      "metadata": {},
      "outputs": [],
      "source": [
        "# Analyze demographic representation\n",
        "data = pd.read_csv('thyroid_cancer_risk_data_cleaned.csv')\n",
        "\n",
        "demographic_counts = data['Ethnicity'].value_counts()\n",
        "print(demographic_counts)"
      ]
    },
    {
      "cell_type": "code",
      "execution_count": null,
      "metadata": {},
      "outputs": [],
      "source": [
        "#Visualize the demographic distribution\n",
        "\n",
        "# Plot demographic representation\n",
        "demographic_counts.plot(kind='bar', color=['blue', 'orange', 'green', 'red', 'purple'])\n",
        "plt.title('Demographic Representation in Dataset')\n",
        "plt.xlabel('Ethnicity')\n",
        "plt.ylabel('Count')\n",
        "plt.xticks(rotation=45)\n",
        "plt.tight_layout()\n",
        "plt.show()"
      ]
    },
    {
      "cell_type": "markdown",
      "metadata": {},
      "source": [
        "The dataset is highly demographic, showing five ethnic groups: Caucasian, Asian, African, Hispanic, and Middle Eastern. \n",
        "\n",
        "* The Caucasians are the most represented group, with 63,669 entries, while the Middle Eastern individuals are the least represented, with only 21,335 entries. The Asians come in with 53,261 entries, Africans with 42,414 entries, and Hispanics with 32,012 entries, showing an uneven distribution.\n",
        "\n",
        "* This, therefore, creates an imbalance that might affect predictive modeling or research. Such models perform way better if this data is over-representative for groups like Caucasians and Asians while performing poorly for groups such as the Middle Eastern and Hispanic populations. The insights drawn from this data may also not generalize well across the whole population; therefore, these might be biased or lead to inequity.\n",
        "\n",
        "* This can be further balanced by collecting more data from underrepresented groups. Other techniques that can be used to reduce bias include oversampling and the generation of synthetic data. Model performance evaluation across demographic groups and the inclusion of fairness metrics in the evaluation frameworks are crucial steps toward ensuring equity.\n",
        "\n",
        "* Transparency in documenting the limitations of the dataset and regular audits for fairness are key to ethical standards in data-driven applications."
      ]
    },
    {
      "cell_type": "code",
      "execution_count": null,
      "metadata": {},
      "outputs": [],
      "source": [
        "import pandas as pd\n",
        "import matplotlib.pyplot as plt\n",
        "from scipy.stats import chi2_contingency\n",
        "\n",
        "# Check for bias in the dataset regarding gender representation\n",
        "\n",
        "# Load dataset with correct filename\n",
        "df = pd.read_csv('thyroid_cancer_risk_data.csv')\n",
        "\n",
        "# 1. Gender distribution analysis\n",
        "gender_dist = df['Gender'].value_counts(normalize=True)\n",
        "\n",
        "# 2. Diagnosis distribution by gender\n",
        "diagnosis_dist = pd.crosstab(df['Gender'], df['Diagnosis'], normalize='index')\n",
        "\n",
        "# 3. Statistical significance test\n",
        "contingency_table = pd.crosstab(df['Gender'], df['Diagnosis'])\n",
        "chi2, p, dof, expected = chi2_contingency(contingency_table)\n",
        "\n",
        "# 4. Visualization\n",
        "plt.figure(figsize=(10,5))\n",
        "diagnosis_dist.plot(kind='bar', stacked=True)\n",
        "plt.title('Thyroid Cancer Diagnosis Distribution by Gender')\n",
        "plt.ylabel('Proportion')\n",
        "plt.xticks(rotation=0)\n",
        "plt.show()\n",
        "\n",
        "print(\"Gender Distribution:\\n\", gender_dist)\n",
        "print(\"\\nDiagnosis Proportions by Gender:\\n\", diagnosis_dist)\n",
        "print(f\"\\nChi-squared test p-value: {p:.4f}\")"
      ]
    },
    {
      "cell_type": "markdown",
      "metadata": {},
      "source": [
        "---"
      ]
    },
    {
      "cell_type": "markdown",
      "metadata": {},
      "source": [
        "This result does not show any evidence of gender bias in the diagnosis of thyroid cancer in the dataset:\n",
        "\n",
        "1. **Distribution of Genders**:\n",
        "   - Female: 59.96%\n",
        "   - Male: 40.04%\n",
        "\n",
        "2. **Proportion in Diagnosis by Genders**:\n",
        "   - Female: 76.68% Benign, 23.32% Malignant\n",
        "   - Male: 76.80% Benign, 23.20% Malignant\n",
        "\n",
        "3. **Statistical Test**:\n",
        "   - Chi-square test p-value = 0.5102 (p > 0.05), which means no statistically significant difference in the diagnosis proportions across the genders.\n",
        "\n",
        "4. **Visualization:\n",
        "The bar chart confirms that the proportions of benign and malignant diagnoses are almost identical for both genders, confirming the conclusion there is no gender bias.\n",
        "\n",
        "Based on this analysis, it can be concluded that this data does not show gender bias in the diagnosis outcome of thyroid cancer."
      ]
    },
    {
      "cell_type": "code",
      "execution_count": null,
      "metadata": {},
      "outputs": [],
      "source": [
        "# Load dataset\n",
        "df = pd.read_csv('thyroid_cancer_risk_data_cleaned.csv')  # Update path if needed\n",
        "\n",
        "# Create age groups for analysis\n",
        "df['Age_Group'] = pd.cut(df['Age'], bins=[0, 20, 40, 60, 80, 100], labels=['0-20', '21-40', '41-60', '61-80', '81-100'])\n",
        "\n",
        "# 1. Age group distribution analysis\n",
        "age_dist = df['Age_Group'].value_counts(normalize=True)\n",
        "\n",
        "# 2. Diagnosis distribution by age group\n",
        "diagnosis_dist_age = pd.crosstab(df['Age_Group'], df['Diagnosis'], normalize='index')\n",
        "\n",
        "# 3. Statistical significance test for age groups\n",
        "contingency_table_age = pd.crosstab(df['Age_Group'], df['Diagnosis'])\n",
        "chi2_age, p_age, dof_age, expected_age = chi2_contingency(contingency_table_age)\n",
        "\n",
        "# 4. Visualization\n",
        "plt.figure(figsize=(10,5))\n",
        "diagnosis_dist_age.plot(kind='bar', stacked=True)\n",
        "plt.title('Thyroid Cancer Diagnosis Distribution by Age Group')\n",
        "plt.ylabel('Proportion')\n",
        "plt.xticks(rotation=45)\n",
        "plt.show()\n",
        "\n",
        "print(\"Age Group Distribution:\\n\", age_dist)\n",
        "print(\"\\nDiagnosis Proportions by Age Group:\\n\", diagnosis_dist_age)\n",
        "print(f\"\\nChi-squared test p-value for age groups: {p_age:.4f}\")"
      ]
    },
    {
      "cell_type": "markdown",
      "metadata": {},
      "source": [
        "The analysis does not show any bias in thyroid cancer diagnosis based on age groups within this dataset. Diagnosis outcomes (benign vs. malignant) appear consistent across all age ranges, as supported by the high p-value and similar proportions in each group."
      ]
    },
    {
      "cell_type": "code",
      "execution_count": null,
      "metadata": {},
      "outputs": [],
      "source": [
        "# Load and analyze family history bias\n",
        "data = pd.read_csv('thyroid_cancer_risk_data.csv')\n",
        "\n",
        "# Calculate risk distribution\n",
        "risk_distribution = data.groupby(['Family_History', 'Thyroid_Cancer_Risk']).size().unstack(fill_value=0)\n",
        "percentage_distribution = risk_distribution.div(risk_distribution.sum(axis=1), axis=0) * 100\n",
        "\n",
        "# Display the percentage distribution\n",
        "print(\"Percentage Distribution of Thyroid Cancer Risk by Family History:\")\n",
        "display(percentage_distribution)\n",
        "\n",
        "# Visualize the distribution\n",
        "plt.figure(figsize=(10, 6))\n",
        "percentage_distribution.plot(kind='bar', stacked=True, color=['red', 'green', 'yellow'])\n",
        "plt.title('Thyroid Cancer Risk Distribution by Family History')\n",
        "plt.xlabel('Family History')\n",
        "plt.ylabel('Percentage')\n",
        "plt.xticks(rotation=0)\n",
        "plt.legend(title='Thyroid Cancer Risk')\n",
        "plt.tight_layout()\n",
        "plt.show()\n",
        "\n",
        "# Statistical significance test\n",
        "contingency_table_family_history = pd.crosstab(data['Family_History'], data['Thyroid_Cancer_Risk'])\n",
        "chi2_family_history, p_family_history, dof_family_history, expected_family_history = chi2_contingency(contingency_table_family_history)\n",
        "\n",
        "print(f\"Chi-squared test p-value for family history: {p_family_history:.4f}\")\n",
        "\n",
        "# Interpretation\n",
        "if p_family_history < 0.05:\n",
        "    print(\"There is a statistically significant association between family history and thyroid cancer risk.\")\n",
        "else:\n",
        "    print(\"There is no statistically significant association between family history and thyroid cancer risk.\")"
      ]
    },
    {
      "cell_type": "markdown",
      "metadata": {},
      "source": [
        "<div style='background-color:#0C9A66; padding: 15px; border-radius: 5px;'>\n",
        "<h1 style='color:#FEFEFE; text-align:left;'>Section 3: Analysis</h1>\n",
        "</div>"
      ]
    },
    {
      "cell_type": "markdown",
      "metadata": {},
      "source": [
        "<div style='background-color:#0C9A66; padding: 15px; border-radius: 5px;'>\n",
        "    <h4 style='color:#FEFEFE; text-align:left;'>Hypothesis 1: Age and gender influence thyroid cancer risk, with older individuals and females having a higher probability.</h4>\n",
        "    <p style='color:#FEFEFE; text-align:left;'>\n",
        "        <strong>Validation:</strong> Use box plots and regression analysis to explore how cancer risk varies across different age groups and gender distributions.\n",
        "        <br>\n",
        "        <strong>Logistic Regression Modeling:</strong> Fitting a logistic regression model to quantify the effect of age and gender on thyroid cancer probability.\n",
        "    </p>\n",
        "</div>\n",
        "\n"
      ]
    },
    {
      "cell_type": "markdown",
      "metadata": {},
      "source": [
        "\n",
        "\n",
        "\n",
        "\n"
      ]
    },
    {
      "cell_type": "code",
      "execution_count": null,
      "metadata": {},
      "outputs": [],
      "source": [
        "from statsmodels.miscmodels.ordinal_model import OrderedModel\n",
        "\n",
        "# Convert categorical variables to numerical values\n",
        "df['Thyroid_Cancer_Risk_Numeric'] = df['Thyroid_Cancer_Risk'].map({'Low': 1, 'Medium': 2, 'High': 3})\n",
        "df['Gender_Binary'] = df['Gender'].map({'Female': 1, 'Male': 0})\n",
        "\n",
        "# Define independent variables (without intercept)\n",
        "X_ordinal = df[['Age', 'Gender_Binary']]\n",
        "\n",
        "# Fit ordinal logistic regression model\n",
        "ordinal_model = OrderedModel(df['Thyroid_Cancer_Risk_Numeric'], X_ordinal, distr='logit')\n",
        "ordinal_result = ordinal_model.fit(method='bfgs')\n",
        "\n",
        "# Display the summary of results\n",
        "print(ordinal_result.summary())"
      ]
    },
    {
      "cell_type": "markdown",
      "metadata": {},
      "source": [
        "<div style='background-color:#0C9A66; padding: 15px; border-radius: 5px;'>\n",
        "    <h4 style='color:#FEFEFE; text-align:left;'>Interpretation: Odds Ratio (OR) Interpretation</h4>\n",
        "</div>\n"
      ]
    },
    {
      "cell_type": "markdown",
      "metadata": {},
      "source": [
        "If exp(Gender_Binary) = 1.018, it means that females have 1.8% higher odds of being classified into a higher thyroid cancer risk category compared to males, holding age constant.\n",
        "If exp(Age) = 1.0003, it means that each additional year of age increases the odds of being in a higher thyroid cancer risk category by 0.03%, which is very small and not statistically significant (p = 0.133).\n",
        "Confidence Interval (CI):\n",
        "\n",
        "The 95% CI for gender (1.001 to 1.035) means we are 95% confident that the true effect lies within this range.\n",
        "The 95% CI for age (1.000 to 1.001) suggests very little change in risk per year of age, meaning age might not be a strong predictor.\n",
        "\n",
        "What does this actually mean in real-world terms?\n",
        "\n",
        "Gender Influence: The model suggests that females have a slightly higher risk of being classified into a higher thyroid cancer risk group.\n",
        "\n",
        "This aligns with real-world medical studies, where women are more likely to develop thyroid nodules and thyroid cancer.\n",
        "However, the effect size (1.8% increase) is small.\n",
        "Age Influence: The effect of age is statistically insignificant, meaning age alone does not strongly predict thyroid cancer risk in this dataset.\n",
        "\n",
        "This might be because age interacts with other factors, such as radiation exposure, family history, or hormonal differences."
      ]
    },
    {
      "cell_type": "markdown",
      "metadata": {},
      "source": [
        "<div style='background-color:#0C9A66; padding: 15px; border-radius: 5px;'>\n",
        "    <h4 style='color:#FEFEFE; text-align:left;'>Predicting Thyroid Cancer Risk</h4>\n",
        "</div>"
      ]
    },
    {
      "cell_type": "code",
      "execution_count": null,
      "metadata": {},
      "outputs": [],
      "source": [
        "import ipywidgets as widgets\n",
        "from IPython.display import display\n",
        "\n",
        "# Function to predict thyroid cancer risk\n",
        "def predict_thyroid_risk(age, gender='Female'):\n",
        "    gender_binary = 1 if gender == 'Female' else 0\n",
        "    \n",
        "    log_odds_low_medium = ordinal_result.params['Age'] * age + ordinal_result.params['Gender_Binary'] * gender_binary + ordinal_result.params['1/2']\n",
        "    log_odds_medium_high = ordinal_result.params['Age'] * age + ordinal_result.params['Gender_Binary'] * gender_binary + ordinal_result.params['2/3']\n",
        "    \n",
        "    prob_low = 1 / (1 + np.exp(-log_odds_low_medium))\n",
        "    prob_medium = 1 / (1 + np.exp(-log_odds_medium_high)) - prob_low\n",
        "    prob_high = 1 - (prob_low + prob_medium)\n",
        "    \n",
        "    return prob_low, prob_medium, prob_high\n",
        "\n",
        "# Create interactive widgets\n",
        "age_slider = widgets.IntSlider(min=15, max=90, value=30, description=\"Age:\")\n",
        "gender_dropdown = widgets.Dropdown(options=[\"Female\", \"Male\"], value=\"Female\", description=\"Gender:\")\n",
        "output = widgets.Output()\n",
        "\n",
        "# Function to update prediction\n",
        "def update_prediction(change):\n",
        "    with output:\n",
        "        output.clear_output()\n",
        "        age = age_slider.value\n",
        "        gender = gender_dropdown.value\n",
        "        prob_low, prob_medium, prob_high = predict_thyroid_risk(age, gender)\n",
        "        display(f\"For Age: {age}, Gender: {gender}\")\n",
        "        display(f\"Probability of Low Risk: {prob_low:.4f}\")\n",
        "        display(f\"Probability of Medium Risk: {prob_medium:.4f}\")\n",
        "        display(f\"Probability of High Risk: {prob_high:.4f}\")\n",
        "\n",
        "# Attach event handlers\n",
        "age_slider.observe(update_prediction, names=\"value\")\n",
        "gender_dropdown.observe(update_prediction, names=\"value\")\n",
        "\n",
        "# Display widgets and output\n",
        "display(age_slider, gender_dropdown, output)"
      ]
    },
    {
      "cell_type": "code",
      "execution_count": null,
      "metadata": {},
      "outputs": [],
      "source": [
        "# Update the prediction initially\n",
        "update_prediction(None)"
      ]
    },
    {
      "cell_type": "code",
      "execution_count": null,
      "metadata": {},
      "outputs": [],
      "source": [
        "# Define custom color palette for gender categories\n",
        "gender_palette = {\"Male\": \"#FE6F60\", \"Female\": \"#0C9A66\"}  # Adjusted from your palette\n",
        "\n",
        "# Plot Gender Proportion in Thyroid Cancer Risk\n",
        "plt.figure(figsize=(8, 5))\n",
        "sns.countplot(x='Thyroid_Cancer_Risk', hue='Gender', data=df, palette=gender_palette)\n",
        "plt.title(\"Thyroid Cancer Risk Distribution by Gender\")\n",
        "plt.xlabel(\"Thyroid Cancer Risk Level\")\n",
        "plt.ylabel(\"Count\")\n",
        "plt.show()"
      ]
    },
    {
      "cell_type": "markdown",
      "metadata": {},
      "source": [
        "Plot Age Distribution by Thyroid Cancer Risk"
      ]
    },
    {
      "cell_type": "code",
      "execution_count": null,
      "metadata": {},
      "outputs": [],
      "source": [
        "# Define custom color palette for the boxplot\n",
        "box_palette = [\"#9BE2C7\", \"#FE6F60\", \"#373734\", \"#0C9A66\"]  # Adjusted from your palette\n",
        "\n",
        "# Plot Age Distribution by Thyroid Cancer Risk Level\n",
        "plt.figure(figsize=(12, 6))\n",
        "sns.boxplot(x=df['Thyroid_Cancer_Risk'], y=df['Age'], palette=box_palette)\n",
        "plt.title(\"Age Distribution by Thyroid Cancer Risk Level\")\n",
        "plt.xlabel(\"Thyroid Cancer Risk Level\")\n",
        "plt.ylabel(\"Age\")\n",
        "plt.show()"
      ]
    },
    {
      "cell_type": "markdown",
      "metadata": {},
      "source": [
        "<div style='background-color:#0C9A66; padding: 15px; border-radius: 5px;'>\n",
        "    <h4 style='color:#FEFEFE; text-align:left;'>Hypothesis 2: Certain countries and ethnicities have a higher prevalence of thyroid cancer due to genetic and environmental factors.</h4>\n",
        "</div>\n"
      ]
    },
    {
      "cell_type": "markdown",
      "metadata": {},
      "source": [
        "\n",
        "<h3 style='color:#0C9A66;'>Key Goals:</h3>\n",
        "\n",
        "Identify high-risk regions where thyroid cancer is more prevalent.\n",
        "Analyze variations in thyroid cancer risk across different countries.\n",
        "Support health policy and decision-making by providing a data-driven overview of thyroid cancer risk worldwide.\n",
        "\n",
        "\n",
        "<h3 style='color:#0C9A66;'>Calculate the proportion of each risk level for each country</h3>\n",
        "\n",
        "The following code Compute Proportion of Each Risk Level by Country by ( Grouping the data by country and risk level (Low, Medium, High).\n",
        "Computing the number of individuals per risk level (Count).\n",
        "Computing total individuals per country (Total).\n",
        "Calculating the percentage of each risk level per country (Proportion).)\n",
        "\n",
        "Final Deliverable: An interactive visual analytics dashboard to communicate insights effectively.\n"
      ]
    },
    {
      "cell_type": "code",
      "execution_count": null,
      "metadata": {},
      "outputs": [],
      "source": [
        "cancer_cases_by_country = df.groupby([\"Country\", \"Thyroid_Cancer_Risk\"]).size().reset_index(name=\"Count\")\n",
        "total_counts = df.groupby(\"Country\").size().reset_index(name=\"Total\")\n",
        "cancer_cases_by_country = cancer_cases_by_country.merge(total_counts, on=\"Country\")\n",
        "cancer_cases_by_country[\"Proportion\"] = (cancer_cases_by_country[\"Count\"] / cancer_cases_by_country[\"Total\"]) * 100  # Convert to percentage"
      ]
    },
    {
      "cell_type": "markdown",
      "metadata": {},
      "source": [
        "The following code is create A custom Green-Yellow-Red scale:\n",
        "Green (Low Risk)\n",
        "Yellow (Medium Risk)\n",
        "Red (High Risk)\n",
        "Purpose: Helps in visually distinguishing risk levels on the map."
      ]
    },
    {
      "cell_type": "code",
      "execution_count": null,
      "metadata": {},
      "outputs": [],
      "source": [
        "custom_color_scale = [[0.0, \"green\"], [0.5, \"yellow\"], [1.0, \"red\"]]"
      ]
    },
    {
      "cell_type": "markdown",
      "metadata": {},
      "source": [
        "The Following Code is to create an interactive choropleth visualization showing how different risk levels are distributed across the world: Creates a world map for each risk level (Low, Medium, High).\n",
        "Uses facet_row=\"Thyroid_Cancer_Risk\" → Each risk level is displayed as a separate stacked map.\n",
        "Uses the custom color scale to visualize proportions"
      ]
    },
    {
      "cell_type": "code",
      "execution_count": null,
      "metadata": {},
      "outputs": [],
      "source": [
        "fig_geo = px.choropleth(\n",
        "    cancer_cases_by_country,\n",
        "    locations=\"Country\",\n",
        "    locationmode=\"country names\",\n",
        "    color=\"Proportion\",\n",
        "    facet_row=\"Thyroid_Cancer_Risk\",  # Stack maps vertically\n",
        "    color_continuous_scale=custom_color_scale,  # Apply the custom color scale\n",
        "    title=\"Geospatial Distribution of Thyroid Cancer Risk by Level\",\n",
        "    labels={\"Proportion\": \"Proportion of Risk Level (%)\"}  # Update label to show percentage\n",
        ")"
      ]
    },
    {
      "cell_type": "code",
      "execution_count": null,
      "metadata": {},
      "outputs": [],
      "source": [
        "\n",
        "fig_geo.update_layout(\n",
        "    coloraxis=dict(\n",
        "        colorbar=dict(\n",
        "            title=\"Risk Proportion (%)\",\n",
        "            tickvals=[0, 10, 20, 30, 40, 50, 60, 70, 80, 90, 100],  # More precise percentage values\n",
        "            ticktext=[\"0%\", \"10%\", \"20%\", \"30%\", \"40%\", \"50%\", \"60%\", \"70%\", \"80%\", \"90%\", \"100%\"],  # Explicit numeric labels in percentage\n",
        "             tickfont=dict(size=16)  # Increase font size for tick labels\n",
        "        )\n",
        "    ),\n",
        "    height=1600,  # Increase figure height for larger maps\n",
        "    margin={\"r\": 0, \"t\": 40, \"l\": 0, \"b\": 0}\n",
        ")\n",
        "\n",
        "fig_geo.show()\n"
      ]
    },
    {
      "cell_type": "markdown",
      "metadata": {},
      "source": [
        "Interpretation:\n",
        "\n",
        "Most countries show a similar risk distribution:\n",
        "Low risk (~53-54%) is the most common category.\n",
        "Medium risk (~35-36%) follows.\n",
        "High risk (~10-11%) is the least frequent in most countries.\n",
        "This suggests that thyroid cancer risk is generally low in most global regions.\n",
        "\n",
        "India Shows a Unique Risk Pattern\n",
        "High-risk individuals make up 32.86% of the population (significantly higher than other countries).\n",
        "Medium risk (26.86%) is lower than most other countries.\n",
        "Low risk (40.28%) is lower compared to other nations (~53%).\n",
        "Possible explanation: India may have environmental or genetic factors contributing to higher thyroid cancer risk.\n",
        "\n",
        "Countries such as Brazil, China, Germany, Japan, Nigeria, Russia, South Korea, UK, and USA all follow a pattern:\n",
        "High risk is ~10-11%.\n",
        "Medium risk is ~35-36%.\n",
        "Low risk is ~53-54%.\n",
        "This suggests similar healthcare screening, environmental exposure, or dietary factors across these countries.\n",
        "\n",
        "\n",
        "Japan (10.06%) and South Korea (10.50%) have the lowest high-risk proportions.\n",
        "This could be due to:\n",
        "Better preventive healthcare (e.g., early thyroid screening).\n",
        "Dietary factors (higher iodine intake from seafood).\n",
        "Genetic factors reducing risk.\n",
        "\n",
        "& Western Countries (UK & USA) Show Similar Trends. "
      ]
    },
    {
      "cell_type": "markdown",
      "metadata": {},
      "source": [
        "---"
      ]
    },
    {
      "cell_type": "markdown",
      "metadata": {},
      "source": [
        "# Push files to Repo"
      ]
    },
    {
      "cell_type": "markdown",
      "metadata": {},
      "source": [
        "* In cases where you don't need to push files to Repo, you may replace this section with \"Conclusions and Next Steps\" and state your conclusions and next steps."
      ]
    },
    {
      "cell_type": "code",
      "execution_count": null,
      "metadata": {},
      "outputs": [],
      "source": [
        "import os\n",
        "try:\n",
        "  # create your folder here\n",
        "  # os.makedirs(name='')\n",
        "except Exception as e:\n",
        "  print(e)\n"
      ]
    },
    {
      "cell_type": "markdown",
      "metadata": {
        "id": "9uWZXH9LwoQg"
      },
      "source": [
        "---"
      ]
    },
    {
      "cell_type": "markdown",
      "metadata": {
        "id": "cqP-UeN-z3i2"
      },
      "source": [
        "# Change working directory"
      ]
    },
    {
      "cell_type": "markdown",
      "metadata": {},
      "source": [
        "* We are assuming you will store the notebooks in a subfolder, therefore when running the notebook in the editor, you will need to change the working directory"
      ]
    },
    {
      "cell_type": "markdown",
      "metadata": {
        "id": "aOGIGS-uz3i2"
      },
      "source": [
        "We need to change the working directory from its current folder to its parent folder\n",
        "* We access the current directory with os.getcwd()"
      ]
    },
    {
      "cell_type": "code",
      "execution_count": null,
      "metadata": {
        "id": "wZfF_j-Bz3i4",
        "outputId": "66943449-1436-4c3d-85c7-b85f9f78349b"
      },
      "outputs": [],
      "source": [
        "import os\n",
        "current_dir = os.getcwd()\n",
        "current_dir"
      ]
    },
    {
      "cell_type": "markdown",
      "metadata": {
        "id": "9MWW8E7lz3i7"
      },
      "source": [
        "We want to make the parent of the current directory the new current directory\n",
        "* os.path.dirname() gets the parent directory\n",
        "* os.chir() defines the new current directory"
      ]
    },
    {
      "cell_type": "code",
      "execution_count": null,
      "metadata": {
        "id": "TwHsQRWjz3i9",
        "outputId": "86849db3-cd2f-4cc5-ebb8-2d0caafa1a2c"
      },
      "outputs": [],
      "source": [
        "os.chdir(os.path.dirname(current_dir))\n",
        "print(\"You set a new current directory\")"
      ]
    },
    {
      "cell_type": "markdown",
      "metadata": {
        "id": "M_xPk_Ijz3i-"
      },
      "source": [
        "Confirm the new current directory"
      ]
    },
    {
      "cell_type": "code",
      "execution_count": null,
      "metadata": {
        "id": "vz3S-_kjz3jA",
        "outputId": "00b79ae4-75d0-4a96-d193-ac9ef9847ea2"
      },
      "outputs": [],
      "source": [
        "current_dir = os.getcwd()\n",
        "current_dir"
      ]
    },
    {
      "cell_type": "markdown",
      "metadata": {},
      "source": [
        "<div style='background-color:#0C9A66; padding: 15px; border-radius: 5px;'>\n",
        "<h1 style='color:#FEFEFE; text-align:left;'>Section 1 :  Data Extraction, Transformation, and Loading (ETL)</h1>\n",
        "</div>"
      ]
    },
    {
      "cell_type": "markdown",
      "metadata": {},
      "source": [
        "Setting up & Importing Python packages that we will be using in this project to carry out the analysis. For example Numpy to compute numerical operations and handle arrays, Pandas for data manipulation and analysis, Matplotlib, Seaborn and Plotly to create different data visualisations."
      ]
    },
    {
      "cell_type": "code",
      "execution_count": null,
      "metadata": {},
      "outputs": [],
      "source": [
        "import pandas as pd \n",
        "import numpy as np\n",
        "import matplotlib.pyplot as plt\n",
        "import seaborn as sns\n",
        "sns.set_style('whitegrid')\n",
        "import plotly.express as px"
      ]
    },
    {
      "cell_type": "markdown",
      "metadata": {
        "id": "-mavJ8DibrcQ"
      },
      "source": [
        "Data Extraction"
      ]
    },
    {
      "cell_type": "markdown",
      "metadata": {},
      "source": [
        "Loading the CSV dataset containing the data collected previously and extracting it into dataframe using pd.read_csv() function."
      ]
    },
    {
      "cell_type": "code",
      "execution_count": null,
      "metadata": {},
      "outputs": [],
      "source": [
        "df = pd.read_csv(r\"C:\\Users\\dhent\\OneDrive\\Desktop\\Cancer Prediction\\Hackathon 2\\Thyroid-Risk-Analysis-1\\thyroid_cancer_risk_data_cleaned.csv\")\n"
      ]
    },
    {
      "cell_type": "markdown",
      "metadata": {},
      "source": [
        "Data Cleaning, Tranformation & Analysis "
      ]
    },
    {
      "cell_type": "markdown",
      "metadata": {},
      "source": [
        "Next checking the general information regarding the data such as column names, datatypes of columns, number of entries and the memory space used through .info() method."
      ]
    },
    {
      "cell_type": "code",
      "execution_count": null,
      "metadata": {},
      "outputs": [],
      "source": [
        "df.info()"
      ]
    },
    {
      "cell_type": "markdown",
      "metadata": {},
      "source": [
        "Reviewing top 5 entries in dataset to get a general overview of the dataset with .head() method"
      ]
    },
    {
      "cell_type": "code",
      "execution_count": null,
      "metadata": {},
      "outputs": [],
      "source": [
        "df.head()"
      ]
    },
    {
      "cell_type": "markdown",
      "metadata": {},
      "source": [
        "Checking for missing values"
      ]
    },
    {
      "cell_type": "code",
      "execution_count": null,
      "metadata": {},
      "outputs": [],
      "source": [
        "df.isnull().sum()"
      ]
    },
    {
      "cell_type": "markdown",
      "metadata": {},
      "source": [
        "Checking for each Column's datatype"
      ]
    },
    {
      "cell_type": "code",
      "execution_count": null,
      "metadata": {},
      "outputs": [],
      "source": [
        "df.dtypes"
      ]
    },
    {
      "cell_type": "markdown",
      "metadata": {},
      "source": [
        "Checking for any duplicate values in data"
      ]
    },
    {
      "cell_type": "code",
      "execution_count": null,
      "metadata": {},
      "outputs": [],
      "source": [
        "duplicate_check = df.duplicated().any()\n",
        "print('There are duplicate entries:', duplicate_check,'.')"
      ]
    },
    {
      "cell_type": "code",
      "execution_count": null,
      "metadata": {},
      "outputs": [],
      "source": [
        "# Check missing values\n",
        "df.isnull().sum()  # Shows count of missing values per column\n",
        "\n",
        "# Cleaning any empty values to 0 for easier numeric computation\n",
        "df.fillna(0)  # Fill all missing values with 0"
      ]
    },
    {
      "cell_type": "markdown",
      "metadata": {},
      "source": [
        "Dropping the patient ID column to anonimise the data with .drop() method and then rechecking if it has been dropped with .head() method."
      ]
    },
    {
      "cell_type": "code",
      "execution_count": null,
      "metadata": {},
      "outputs": [],
      "source": [
        "df = df.drop(columns=[\"Patient_ID\"])\n",
        "df.head()"
      ]
    },
    {
      "cell_type": "markdown",
      "metadata": {},
      "source": [
        "Generating a summary of the statistics of the dataset such mean, total count of entries,minimum and maximum values."
      ]
    },
    {
      "cell_type": "code",
      "execution_count": null,
      "metadata": {},
      "outputs": [],
      "source": [
        "df.describe()"
      ]
    },
    {
      "cell_type": "markdown",
      "metadata": {},
      "source": [
        "Save the cleaned dataset with the same name in the same directory after data cleaning and processing (dropping the Patient_ID column, etc...):"
      ]
    },
    {
      "cell_type": "code",
      "execution_count": null,
      "metadata": {},
      "outputs": [],
      "source": [
        "df.to_csv('thyroid_cancer_risk_data_cleaned.csv', index=False)\n"
      ]
    },
    {
      "cell_type": "markdown",
      "metadata": {},
      "source": [
        "<div style='background-color:#0C9A66; padding: 15px; border-radius: 5px;'>\n",
        "<h1 style='color:#FEFEFE; text-align:left;'>Section 2: Bias Detection</h1>\n",
        "</div>"
      ]
    },
    {
      "cell_type": "markdown",
      "metadata": {},
      "source": [
        "<h2 style='color:#0C9A66;'>Checking the data for any bias in any of the classes</h2>\n",
        "\n",
        "Bias in data can significantly affect the outcomes and interpretations of our analysis. It is crucial to identify and address any biases to ensure the validity and fairness of our results. In this section, we will check for potential biases in the dataset across different classes such as gender, age, ethnicity, and family history."
      ]
    },
    {
      "cell_type": "code",
      "execution_count": null,
      "metadata": {},
      "outputs": [],
      "source": [
        "# Analyze demographic representation\n",
        "data = pd.read_csv('thyroid_cancer_risk_data_cleaned.csv')\n",
        "\n",
        "demographic_counts = data['Ethnicity'].value_counts()\n",
        "print(demographic_counts)"
      ]
    },
    {
      "cell_type": "code",
      "execution_count": null,
      "metadata": {},
      "outputs": [],
      "source": [
        "#Visualize the demographic distribution\n",
        "\n",
        "# Plot demographic representation\n",
        "demographic_counts.plot(kind='bar', color=['blue', 'orange', 'green', 'red', 'purple'])\n",
        "plt.title('Demographic Representation in Dataset')\n",
        "plt.xlabel('Ethnicity')\n",
        "plt.ylabel('Count')\n",
        "plt.xticks(rotation=45)\n",
        "plt.tight_layout()\n",
        "plt.show()"
      ]
    },
    {
      "cell_type": "markdown",
      "metadata": {},
      "source": [
        "The dataset is highly demographic, showing five ethnic groups: Caucasian, Asian, African, Hispanic, and Middle Eastern. \n",
        "\n",
        "* The Caucasians are the most represented group, with 63,669 entries, while the Middle Eastern individuals are the least represented, with only 21,335 entries. The Asians come in with 53,261 entries, Africans with 42,414 entries, and Hispanics with 32,012 entries, showing an uneven distribution.\n",
        "\n",
        "* This, therefore, creates an imbalance that might affect predictive modeling or research. Such models perform way better if this data is over-representative for groups like Caucasians and Asians while performing poorly for groups such as the Middle Eastern and Hispanic populations. The insights drawn from this data may also not generalize well across the whole population; therefore, these might be biased or lead to inequity.\n",
        "\n",
        "* This can be further balanced by collecting more data from underrepresented groups. Other techniques that can be used to reduce bias include oversampling and the generation of synthetic data. Model performance evaluation across demographic groups and the inclusion of fairness metrics in the evaluation frameworks are crucial steps toward ensuring equity.\n",
        "\n",
        "* Transparency in documenting the limitations of the dataset and regular audits for fairness are key to ethical standards in data-driven applications."
      ]
    },
    {
      "cell_type": "code",
      "execution_count": null,
      "metadata": {},
      "outputs": [],
      "source": [
        "import pandas as pd\n",
        "import matplotlib.pyplot as plt\n",
        "from scipy.stats import chi2_contingency\n",
        "\n",
        "# Check for bias in the dataset regarding gender representation\n",
        "\n",
        "# Load dataset with correct filename\n",
        "df = pd.read_csv('thyroid_cancer_risk_data.csv')\n",
        "\n",
        "# 1. Gender distribution analysis\n",
        "gender_dist = df['Gender'].value_counts(normalize=True)\n",
        "\n",
        "# 2. Diagnosis distribution by gender\n",
        "diagnosis_dist = pd.crosstab(df['Gender'], df['Diagnosis'], normalize='index')\n",
        "\n",
        "# 3. Statistical significance test\n",
        "contingency_table = pd.crosstab(df['Gender'], df['Diagnosis'])\n",
        "chi2, p, dof, expected = chi2_contingency(contingency_table)\n",
        "\n",
        "# 4. Visualization\n",
        "plt.figure(figsize=(10,5))\n",
        "diagnosis_dist.plot(kind='bar', stacked=True)\n",
        "plt.title('Thyroid Cancer Diagnosis Distribution by Gender')\n",
        "plt.ylabel('Proportion')\n",
        "plt.xticks(rotation=0)\n",
        "plt.show()\n",
        "\n",
        "print(\"Gender Distribution:\\n\", gender_dist)\n",
        "print(\"\\nDiagnosis Proportions by Gender:\\n\", diagnosis_dist)\n",
        "print(f\"\\nChi-squared test p-value: {p:.4f}\")"
      ]
    },
    {
      "cell_type": "markdown",
      "metadata": {
        "id": "ZY3l0-AxO93d"
      },
      "source": [
        "---"
      ]
    },
    {
      "cell_type": "markdown",
      "metadata": {},
      "source": [
        "This result does not show any evidence of gender bias in the diagnosis of thyroid cancer in the dataset:\n",
        "\n",
        "1. **Distribution of Genders**:\n",
        "   - Female: 59.96%\n",
        "   - Male: 40.04%\n",
        "\n",
        "2. **Proportion in Diagnosis by Genders**:\n",
        "   - Female: 76.68% Benign, 23.32% Malignant\n",
        "   - Male: 76.80% Benign, 23.20% Malignant\n",
        "\n",
        "3. **Statistical Test**:\n",
        "   - Chi-square test p-value = 0.5102 (p > 0.05), which means no statistically significant difference in the diagnosis proportions across the genders.\n",
        "\n",
        "4. **Visualization:\n",
        "The bar chart confirms that the proportions of benign and malignant diagnoses are almost identical for both genders, confirming the conclusion there is no gender bias.\n",
        "\n",
        "Based on this analysis, it can be concluded that this data does not show gender bias in the diagnosis outcome of thyroid cancer."
      ]
    },
    {
      "cell_type": "code",
      "execution_count": null,
      "metadata": {},
      "outputs": [],
      "source": [
        "# Load dataset\n",
        "df = pd.read_csv('thyroid_cancer_risk_data_cleaned.csv')  # Update path if needed\n",
        "\n",
        "# Create age groups for analysis\n",
        "df['Age_Group'] = pd.cut(df['Age'], bins=[0, 20, 40, 60, 80, 100], labels=['0-20', '21-40', '41-60', '61-80', '81-100'])\n",
        "\n",
        "# 1. Age group distribution analysis\n",
        "age_dist = df['Age_Group'].value_counts(normalize=True)\n",
        "\n",
        "# 2. Diagnosis distribution by age group\n",
        "diagnosis_dist_age = pd.crosstab(df['Age_Group'], df['Diagnosis'], normalize='index')\n",
        "\n",
        "# 3. Statistical significance test for age groups\n",
        "contingency_table_age = pd.crosstab(df['Age_Group'], df['Diagnosis'])\n",
        "chi2_age, p_age, dof_age, expected_age = chi2_contingency(contingency_table_age)\n",
        "\n",
        "# 4. Visualization\n",
        "plt.figure(figsize=(10,5))\n",
        "diagnosis_dist_age.plot(kind='bar', stacked=True)\n",
        "plt.title('Thyroid Cancer Diagnosis Distribution by Age Group')\n",
        "plt.ylabel('Proportion')\n",
        "plt.xticks(rotation=45)\n",
        "plt.show()\n",
        "\n",
        "print(\"Age Group Distribution:\\n\", age_dist)\n",
        "print(\"\\nDiagnosis Proportions by Age Group:\\n\", diagnosis_dist_age)\n",
        "print(f\"\\nChi-squared test p-value for age groups: {p_age:.4f}\")"
      ]
    },
    {
      "cell_type": "markdown",
      "metadata": {},
      "source": [
        "The analysis does not show any bias in thyroid cancer diagnosis based on age groups within this dataset. Diagnosis outcomes (benign vs. malignant) appear consistent across all age ranges, as supported by the high p-value and similar proportions in each group."
      ]
    },
    {
      "cell_type": "code",
      "execution_count": null,
      "metadata": {},
      "outputs": [],
      "source": [
        "# Load and analyze family history bias\n",
        "data = pd.read_csv('thyroid_cancer_risk_data.csv')\n",
        "\n",
        "# Calculate risk distribution\n",
        "risk_distribution = data.groupby(['Family_History', 'Thyroid_Cancer_Risk']).size().unstack(fill_value=0)\n",
        "percentage_distribution = risk_distribution.div(risk_distribution.sum(axis=1), axis=0) * 100\n",
        "\n",
        "# Display the percentage distribution\n",
        "print(\"Percentage Distribution of Thyroid Cancer Risk by Family History:\")\n",
        "display(percentage_distribution)\n",
        "\n",
        "# Visualize the distribution\n",
        "plt.figure(figsize=(10, 6))\n",
        "percentage_distribution.plot(kind='bar', stacked=True, color=['red', 'green', 'yellow'])\n",
        "plt.title('Thyroid Cancer Risk Distribution by Family History')\n",
        "plt.xlabel('Family History')\n",
        "plt.ylabel('Percentage')\n",
        "plt.xticks(rotation=0)\n",
        "plt.legend(title='Thyroid Cancer Risk')\n",
        "plt.tight_layout()\n",
        "plt.show()\n",
        "\n",
        "# Statistical significance test\n",
        "contingency_table_family_history = pd.crosstab(data['Family_History'], data['Thyroid_Cancer_Risk'])\n",
        "chi2_family_history, p_family_history, dof_family_history, expected_family_history = chi2_contingency(contingency_table_family_history)\n",
        "\n",
        "print(f\"Chi-squared test p-value for family history: {p_family_history:.4f}\")\n",
        "\n",
        "# Interpretation\n",
        "if p_family_history < 0.05:\n",
        "    print(\"There is a statistically significant association between family history and thyroid cancer risk.\")\n",
        "else:\n",
        "    print(\"There is no statistically significant association between family history and thyroid cancer risk.\")"
      ]
    },
    {
      "cell_type": "markdown",
      "metadata": {
        "id": "uFQo3ycuO-v6"
      },
      "source": [
        "<div style='background-color:#0C9A66; padding: 15px; border-radius: 5px;'>\n",
        "<h1 style='color:#FEFEFE; text-align:left;'>Section 3: Analysis</h1>\n",
        "</div>"
      ]
    },
    {
      "cell_type": "markdown",
      "metadata": {},
      "source": [
        "<div style='background-color:#0C9A66; padding: 15px; border-radius: 5px;'>\n",
        "    <h4 style='color:#FEFEFE; text-align:left;'>Hypothesis 1: Age and gender influence thyroid cancer risk, with older individuals and females having a higher probability.</h4>\n",
        "    <p style='color:#FEFEFE; text-align:left;'>\n",
        "        <strong>Validation:</strong> Use box plots and regression analysis to explore how cancer risk varies across different age groups and gender distributions.\n",
        "        <br>\n",
        "        <strong>Logistic Regression Modeling:</strong> Fitting a logistic regression model to quantify the effect of age and gender on thyroid cancer probability.\n",
        "    </p>\n",
        "</div>\n",
        "\n"
      ]
    },
    {
      "cell_type": "markdown",
      "metadata": {},
      "source": [
        "\n",
        "\n",
        "\n",
        "\n"
      ]
    },
    {
      "cell_type": "code",
      "execution_count": null,
      "metadata": {},
      "outputs": [],
      "source": [
        "from statsmodels.miscmodels.ordinal_model import OrderedModel\n",
        "\n",
        "# Convert categorical variables to numerical values\n",
        "df['Thyroid_Cancer_Risk_Numeric'] = df['Thyroid_Cancer_Risk'].map({'Low': 1, 'Medium': 2, 'High': 3})\n",
        "df['Gender_Binary'] = df['Gender'].map({'Female': 1, 'Male': 0})\n",
        "\n",
        "# Define independent variables (without intercept)\n",
        "X_ordinal = df[['Age', 'Gender_Binary']]\n",
        "\n",
        "# Fit ordinal logistic regression model\n",
        "ordinal_model = OrderedModel(df['Thyroid_Cancer_Risk_Numeric'], X_ordinal, distr='logit')\n",
        "ordinal_result = ordinal_model.fit(method='bfgs')\n",
        "\n",
        "# Display the summary of results\n",
        "print(ordinal_result.summary())"
      ]
    },
    {
      "cell_type": "markdown",
      "metadata": {},
      "source": [
        "<div style='background-color:#0C9A66; padding: 15px; border-radius: 5px;'>\n",
        "    <h4 style='color:#FEFEFE; text-align:left;'>Interpretation: Odds Ratio (OR) Interpretation</h4>\n",
        "</div>\n"
      ]
    },
    {
      "cell_type": "markdown",
      "metadata": {},
      "source": [
        "If exp(Gender_Binary) = 1.018, it means that females have 1.8% higher odds of being classified into a higher thyroid cancer risk category compared to males, holding age constant.\n",
        "If exp(Age) = 1.0003, it means that each additional year of age increases the odds of being in a higher thyroid cancer risk category by 0.03%, which is very small and not statistically significant (p = 0.133).\n",
        "Confidence Interval (CI):\n",
        "\n",
        "The 95% CI for gender (1.001 to 1.035) means we are 95% confident that the true effect lies within this range.\n",
        "The 95% CI for age (1.000 to 1.001) suggests very little change in risk per year of age, meaning age might not be a strong predictor.\n",
        "\n",
        "What does this actually mean in real-world terms?\n",
        "\n",
        "Gender Influence: The model suggests that females have a slightly higher risk of being classified into a higher thyroid cancer risk group.\n",
        "\n",
        "This aligns with real-world medical studies, where women are more likely to develop thyroid nodules and thyroid cancer.\n",
        "However, the effect size (1.8% increase) is small.\n",
        "Age Influence: The effect of age is statistically insignificant, meaning age alone does not strongly predict thyroid cancer risk in this dataset.\n",
        "\n",
        "This might be because age interacts with other factors, such as radiation exposure, family history, or hormonal differences."
      ]
    },
    {
      "cell_type": "markdown",
      "metadata": {},
      "source": [
        "<div style='background-color:#0C9A66; padding: 15px; border-radius: 5px;'>\n",
        "    <h4 style='color:#FEFEFE; text-align:left;'>Predicting Thyroid Cancer Risk</h4>\n",
        "</div>"
      ]
    },
    {
      "cell_type": "code",
      "execution_count": null,
      "metadata": {},
      "outputs": [],
      "source": [
        "import ipywidgets as widgets\n",
        "from IPython.display import display\n",
        "\n",
        "# Function to predict thyroid cancer risk\n",
        "def predict_thyroid_risk(age, gender='Female'):\n",
        "    gender_binary = 1 if gender == 'Female' else 0\n",
        "    \n",
        "    log_odds_low_medium = ordinal_result.params['Age'] * age + ordinal_result.params['Gender_Binary'] * gender_binary + ordinal_result.params['1/2']\n",
        "    log_odds_medium_high = ordinal_result.params['Age'] * age + ordinal_result.params['Gender_Binary'] * gender_binary + ordinal_result.params['2/3']\n",
        "    \n",
        "    prob_low = 1 / (1 + np.exp(-log_odds_low_medium))\n",
        "    prob_medium = 1 / (1 + np.exp(-log_odds_medium_high)) - prob_low\n",
        "    prob_high = 1 - (prob_low + prob_medium)\n",
        "    \n",
        "    return prob_low, prob_medium, prob_high\n",
        "\n",
        "# Create interactive widgets\n",
        "age_slider = widgets.IntSlider(min=15, max=90, value=30, description=\"Age:\")\n",
        "gender_dropdown = widgets.Dropdown(options=[\"Female\", \"Male\"], value=\"Female\", description=\"Gender:\")\n",
        "output = widgets.Output()\n",
        "\n",
        "# Function to update prediction\n",
        "def update_prediction(change):\n",
        "    with output:\n",
        "        output.clear_output()\n",
        "        age = age_slider.value\n",
        "        gender = gender_dropdown.value\n",
        "        prob_low, prob_medium, prob_high = predict_thyroid_risk(age, gender)\n",
        "        display(f\"For Age: {age}, Gender: {gender}\")\n",
        "        display(f\"Probability of Low Risk: {prob_low:.4f}\")\n",
        "        display(f\"Probability of Medium Risk: {prob_medium:.4f}\")\n",
        "        display(f\"Probability of High Risk: {prob_high:.4f}\")\n",
        "\n",
        "# Attach event handlers\n",
        "age_slider.observe(update_prediction, names=\"value\")\n",
        "gender_dropdown.observe(update_prediction, names=\"value\")\n",
        "\n",
        "# Display widgets and output\n",
        "display(age_slider, gender_dropdown, output)"
      ]
    },
    {
      "cell_type": "code",
      "execution_count": null,
      "metadata": {},
      "outputs": [],
      "source": [
        "# Update the prediction initially\n",
        "update_prediction(None)"
      ]
    },
    {
      "cell_type": "code",
      "execution_count": null,
      "metadata": {},
      "outputs": [],
      "source": [
        "# Define custom color palette for gender categories\n",
        "gender_palette = {\"Male\": \"#FE6F60\", \"Female\": \"#0C9A66\"}  # Adjusted from your palette\n",
        "\n",
        "# Plot Gender Proportion in Thyroid Cancer Risk\n",
        "plt.figure(figsize=(8, 5))\n",
        "sns.countplot(x='Thyroid_Cancer_Risk', hue='Gender', data=df, palette=gender_palette)\n",
        "plt.title(\"Thyroid Cancer Risk Distribution by Gender\")\n",
        "plt.xlabel(\"Thyroid Cancer Risk Level\")\n",
        "plt.ylabel(\"Count\")\n",
        "plt.show()"
      ]
    },
    {
      "cell_type": "markdown",
      "metadata": {},
      "source": [
        "Plot Age Distribution by Thyroid Cancer Risk"
      ]
    },
    {
      "cell_type": "code",
      "execution_count": null,
      "metadata": {},
      "outputs": [],
      "source": [
        "# Define custom color palette for the boxplot\n",
        "box_palette = [\"#9BE2C7\", \"#FE6F60\", \"#373734\", \"#0C9A66\"]  # Adjusted from your palette\n",
        "\n",
        "# Plot Age Distribution by Thyroid Cancer Risk Level\n",
        "plt.figure(figsize=(12, 6))\n",
        "sns.boxplot(x=df['Thyroid_Cancer_Risk'], y=df['Age'], palette=box_palette)\n",
        "plt.title(\"Age Distribution by Thyroid Cancer Risk Level\")\n",
        "plt.xlabel(\"Thyroid Cancer Risk Level\")\n",
        "plt.ylabel(\"Age\")\n",
        "plt.show()"
      ]
    },
    {
      "cell_type": "markdown",
      "metadata": {},
      "source": [
        "<div style='background-color:#0C9A66; padding: 15px; border-radius: 5px;'>\n",
        "    <h4 style='color:#FEFEFE; text-align:left;'>Hypothesis 2: Certain countries and ethnicities have a higher prevalence of thyroid cancer due to genetic and environmental factors.</h4>\n",
        "</div>\n"
      ]
    },
    {
      "cell_type": "markdown",
      "metadata": {},
      "source": [
        "\n",
        "<h3 style='color:#0C9A66;'>Key Goals:</h3>\n",
        "\n",
        "Identify high-risk regions where thyroid cancer is more prevalent.\n",
        "Analyze variations in thyroid cancer risk across different countries.\n",
        "Support health policy and decision-making by providing a data-driven overview of thyroid cancer risk worldwide.\n",
        "\n",
        "\n",
        "<h3 style='color:#0C9A66;'>Calculate the proportion of each risk level for each country</h3>\n",
        "\n",
        "The following code Compute Proportion of Each Risk Level by Country by ( Grouping the data by country and risk level (Low, Medium, High).\n",
        "Computing the number of individuals per risk level (Count).\n",
        "Computing total individuals per country (Total).\n",
        "Calculating the percentage of each risk level per country (Proportion).)\n",
        "\n",
        "Final Deliverable: An interactive visual analytics dashboard to communicate insights effectively.\n"
      ]
    },
    {
      "cell_type": "code",
      "execution_count": null,
      "metadata": {},
      "outputs": [],
      "source": [
        "cancer_cases_by_country = df.groupby([\"Country\", \"Thyroid_Cancer_Risk\"]).size().reset_index(name=\"Count\")\n",
        "total_counts = df.groupby(\"Country\").size().reset_index(name=\"Total\")\n",
        "cancer_cases_by_country = cancer_cases_by_country.merge(total_counts, on=\"Country\")\n",
        "cancer_cases_by_country[\"Proportion\"] = (cancer_cases_by_country[\"Count\"] / cancer_cases_by_country[\"Total\"]) * 100  # Convert to percentage"
      ]
    },
    {
      "cell_type": "markdown",
      "metadata": {},
      "source": [
        "The following code is create A custom Green-Yellow-Red scale:\n",
        "Green (Low Risk)\n",
        "Yellow (Medium Risk)\n",
        "Red (High Risk)\n",
        "Purpose: Helps in visually distinguishing risk levels on the map."
      ]
    },
    {
      "cell_type": "code",
      "execution_count": null,
      "metadata": {},
      "outputs": [],
      "source": [
        "custom_color_scale = [[0.0, \"green\"], [0.5, \"yellow\"], [1.0, \"red\"]]"
      ]
    },
    {
      "cell_type": "markdown",
      "metadata": {},
      "source": [
        "The Following Code is to create an interactive choropleth visualization showing how different risk levels are distributed across the world: Creates a world map for each risk level (Low, Medium, High).\n",
        "Uses facet_row=\"Thyroid_Cancer_Risk\" → Each risk level is displayed as a separate stacked map.\n",
        "Uses the custom color scale to visualize proportions"
      ]
    },
    {
      "cell_type": "code",
      "execution_count": null,
      "metadata": {},
      "outputs": [],
      "source": [
        "fig_geo = px.choropleth(\n",
        "    cancer_cases_by_country,\n",
        "    locations=\"Country\",\n",
        "    locationmode=\"country names\",\n",
        "    color=\"Proportion\",\n",
        "    facet_row=\"Thyroid_Cancer_Risk\",  # Stack maps vertically\n",
        "    color_continuous_scale=custom_color_scale,  # Apply the custom color scale\n",
        "    title=\"Geospatial Distribution of Thyroid Cancer Risk by Level\",\n",
        "    labels={\"Proportion\": \"Proportion of Risk Level (%)\"}  # Update label to show percentage\n",
        ")"
      ]
    },
    {
      "cell_type": "code",
      "execution_count": null,
      "metadata": {},
      "outputs": [],
      "source": [
        "\n",
        "fig_geo.update_layout(\n",
        "    coloraxis=dict(\n",
        "        colorbar=dict(\n",
        "            title=\"Risk Proportion (%)\",\n",
        "            tickvals=[0, 10, 20, 30, 40, 50, 60, 70, 80, 90, 100],  # More precise percentage values\n",
        "            ticktext=[\"0%\", \"10%\", \"20%\", \"30%\", \"40%\", \"50%\", \"60%\", \"70%\", \"80%\", \"90%\", \"100%\"],  # Explicit numeric labels in percentage\n",
        "             tickfont=dict(size=16)  # Increase font size for tick labels\n",
        "        )\n",
        "    ),\n",
        "    height=1600,  # Increase figure height for larger maps\n",
        "    margin={\"r\": 0, \"t\": 40, \"l\": 0, \"b\": 0}\n",
        ")\n",
        "\n",
        "fig_geo.show()\n"
      ]
    },
    {
      "cell_type": "markdown",
      "metadata": {},
      "source": [
        "Interpretation:\n",
        "\n",
        "Most countries show a similar risk distribution:\n",
        "Low risk (~53-54%) is the most common category.\n",
        "Medium risk (~35-36%) follows.\n",
        "High risk (~10-11%) is the least frequent in most countries.\n",
        "This suggests that thyroid cancer risk is generally low in most global regions.\n",
        "\n",
        "India Shows a Unique Risk Pattern\n",
        "High-risk individuals make up 32.86% of the population (significantly higher than other countries).\n",
        "Medium risk (26.86%) is lower than most other countries.\n",
        "Low risk (40.28%) is lower compared to other nations (~53%).\n",
        "Possible explanation: India may have environmental or genetic factors contributing to higher thyroid cancer risk.\n",
        "\n",
        "Countries such as Brazil, China, Germany, Japan, Nigeria, Russia, South Korea, UK, and USA all follow a pattern:\n",
        "High risk is ~10-11%.\n",
        "Medium risk is ~35-36%.\n",
        "Low risk is ~53-54%.\n",
        "This suggests similar healthcare screening, environmental exposure, or dietary factors across these countries.\n",
        "\n",
        "\n",
        "Japan (10.06%) and South Korea (10.50%) have the lowest high-risk proportions.\n",
        "This could be due to:\n",
        "Better preventive healthcare (e.g., early thyroid screening).\n",
        "Dietary factors (higher iodine intake from seafood).\n",
        "Genetic factors reducing risk.\n",
        "\n",
        "& Western Countries (UK & USA) Show Similar Trends. "
      ]
    },
    {
      "cell_type": "markdown",
      "metadata": {},
      "source": [
        "---"
      ]
    },
    {
      "cell_type": "markdown",
      "metadata": {
        "id": "ltNetd085qHf"
      },
      "source": [
        "# Push files to Repo"
      ]
    },
    {
      "cell_type": "markdown",
      "metadata": {},
      "source": [
        "* In cases where you don't need to push files to Repo, you may replace this section with \"Conclusions and Next Steps\" and state your conclusions and next steps."
      ]
    },
    {
      "cell_type": "code",
      "execution_count": null,
      "metadata": {
        "id": "aKlnIozA4eQO",
        "outputId": "fd09bc1f-adb1-4511-f6ce-492a6af570c0"
      },
      "outputs": [],
      "source": [
        "import os\n",
        "try:\n",
        "  # create your folder here\n",
        "  # os.makedirs(name='')\n",
        "except Exception as e:\n",
        "  print(e)\n"
      ]
    }
  ],
  "metadata": {
    "accelerator": "GPU",
    "colab": {
      "name": "Data Practitioner Jupyter Notebook.ipynb",
      "provenance": [],
      "toc_visible": true
    },
    "kernelspec": {
      "display_name": "Python 3",
      "language": "python",
      "name": "python3"
    },
    "language_info": {
      "codemirror_mode": {
        "name": "ipython",
        "version": 3
      },
      "file_extension": ".py",
      "mimetype": "text/x-python",
      "name": "python",
      "nbconvert_exporter": "python",
      "pygments_lexer": "ipython3",
      "version": "3.13.1"
    },
    "orig_nbformat": 2
  },
  "nbformat": 4,
  "nbformat_minor": 2
}
