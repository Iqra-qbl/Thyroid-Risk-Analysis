{
  "cells": [
    {
      "cell_type": "markdown",
      "metadata": {
        "id": "0aStgWSO0E0E"
      },
      "source": [
        "<div style='background-color:#0C9A66; padding: 15px; border-radius: 5px;'>\n",
        "<h1 style='color:#FEFEFE; text-align:center;'>Thyroid Cancer Risk Analysis – Data Analytics Project</h1>\n",
        "</div>"
      ]
    },
    {
      "cell_type": "markdown",
      "metadata": {
        "id": "1eLEkw5O0ECa"
      },
      "source": [
        "<h2 style='color:#0C9A66;'>Objectives</h2>\n",
        "\n",
        "- Load and preprocess the thyroid cancer risk dataset.\n",
        "- Perform exploratory data analysis (EDA) to understand data distribution and relationships.\n",
        "- Identify key risk factors associated with thyroid cancer.\n",
        "- Engineer new features for better predictive modeling.\n",
        "- Develop data visualizations to support insights.\n",
        "- Store cleaned and processed data for further analysis and model training.\n",
        "\n",
        "\n",
        "<h2 style='color:#0C9A66;'>Inputs</h2>\n",
        "\n",
        "- **Dataset:** `thyroid_cancer_risk_data.csv`\n",
        "- **Required Libraries:** Pandas, NumPy, Matplotlib, Seaborn, Scikit-learn, Plotly\n",
        "- **Columns of Interest:**\n",
        "  - **Demographics:** Age, Gender, Ethnicity, Country\n",
        "  - **Medical Indicators:** TSH, T3, T4 levels, Nodule Size\n",
        "  - **Risk Factors:** Family History, Radiation Exposure, Iodine Deficiency, Smoking, Obesity, Diabetes\n",
        "  - **Outcome Variables:** Thyroid Cancer Risk (Low, Medium, High), Diagnosis (Benign, Malignant)\n",
        "\n",
        "\n",
        "<h2 style='color:#0C9A66;'>Outputs</h2>\n",
        "\n",
        "- **Cleaned dataset:** Processed dataset stored as a CSV file for analysis (`cleaned_thyroid_data.csv`).\n",
        "- **Exploratory Data Analysis (EDA) Visuals:**\n",
        "  - Distribution of thyroid cancer risk across demographics.\n",
        "  - Correlation heatmap of medical indicators.\n",
        "  - Bar charts and scatter plots showing key risk factor influences.\n",
        "  - Box plots for age and gender analysis.\n",
        "- **Feature-engineered dataset:** Enhanced dataset with new derived features.\n",
        "- **Insights & Summary Reports:** Key findings documented for further decision-making.\n",
        "\n",
        "<h2 style='color:#0C9A66;'>Additional Comments</h2>\n",
        "\n",
        "- Ensure proper handling of missing values and outliers to maintain data integrity.\n",
        "- Perform bias detection to identify imbalances in demographic representation.\n",
        "- Use visualization techniques to communicate insights effectively to both technical and non-technical stakeholders.\n"
      ]
    },
    {
      "cell_type": "markdown",
      "metadata": {},
      "source": [
        "<div style='background-color:#0C9A66; padding: 15px; border-radius: 5px;'>\n",
        "<h1 style='color:#FEFEFE; text-align:center;'>Thyroid Cancer Risk Analysis – Data Analytics Project</h1>\n",
        "</div>"
      ]
    },
    {
      "cell_type": "markdown",
      "metadata": {},
      "source": [
        "<h2 style='color:#0C9A66;'>Objectives</h2>\n",
        "\n",
        "- Load and preprocess the thyroid cancer risk dataset.\n",
        "- Perform exploratory data analysis (EDA) to understand data distribution and relationships.\n",
        "- Identify key risk factors associated with thyroid cancer.\n",
        "- Engineer new features for better predictive modeling.\n",
        "- Develop data visualizations to support insights.\n",
        "- Store cleaned and processed data for further analysis and model training.\n",
        "\n",
        "\n",
        "<h2 style='color:#0C9A66;'>Inputs</h2>\n",
        "\n",
        "- **Dataset:** `thyroid_cancer_risk_data.csv`\n",
        "- **Required Libraries:** Pandas, NumPy, Matplotlib, Seaborn, Scikit-learn, Plotly\n",
        "- **Columns of Interest:**\n",
        "  - **Demographics:** Age, Gender, Ethnicity, Country\n",
        "  - **Medical Indicators:** TSH, T3, T4 levels, Nodule Size\n",
        "  - **Risk Factors:** Family History, Radiation Exposure, Iodine Deficiency, Smoking, Obesity, Diabetes\n",
        "  - **Outcome Variables:** Thyroid Cancer Risk (Low, Medium, High), Diagnosis (Benign, Malignant)\n",
        "\n",
        "\n",
        "<h2 style='color:#0C9A66;'>Outputs</h2>\n",
        "\n",
        "- **Cleaned dataset:** Processed dataset stored as a CSV file for analysis (`cleaned_thyroid_data.csv`).\n",
        "- **Exploratory Data Analysis (EDA) Visuals:**\n",
        "  - Distribution of thyroid cancer risk across demographics.\n",
        "  - Correlation heatmap of medical indicators.\n",
        "  - Bar charts and scatter plots showing key risk factor influences.\n",
        "  - Box plots for age and gender analysis.\n",
        "- **Feature-engineered dataset:** Enhanced dataset with new derived features.\n",
        "- **Insights & Summary Reports:** Key findings documented for further decision-making.\n",
        "\n",
        "<h2 style='color:#0C9A66;'>Additional Comments</h2>\n",
        "\n",
        "- Ensure proper handling of missing values and outliers to maintain data integrity.\n",
        "- Perform bias detection to identify imbalances in demographic representation.\n",
        "- Use visualization techniques to communicate insights effectively to both technical and non-technical stakeholders.\n"
      ]
    },
    {
      "cell_type": "markdown",
      "metadata": {},
      "source": [
        "---"
      ]
    },
    {
      "cell_type": "markdown",
      "metadata": {},
      "source": [
        "# Change working directory"
      ]
    },
    {
      "cell_type": "markdown",
      "metadata": {},
      "source": [
        "* We are assuming you will store the notebooks in a subfolder, therefore when running the notebook in the editor, you will need to change the working directory"
      ]
    },
    {
      "cell_type": "markdown",
      "metadata": {},
      "source": [
        "We need to change the working directory from its current folder to its parent folder\n",
        "* We access the current directory with os.getcwd()"
      ]
    },
    {
      "cell_type": "code",
      "execution_count": 1,
      "metadata": {},
      "outputs": [
        {
          "data": {
            "text/plain": [
              "'s:\\\\Documents\\\\Code Institute\\\\vscode-projects\\\\Hackathon2\\\\Thyroid-Risk-Analysis\\\\jupyter_notebooks'"
            ]
          },
          "execution_count": 1,
          "metadata": {},
          "output_type": "execute_result"
        }
      ],
      "source": [
        "import os\n",
        "current_dir = os.getcwd()\n",
        "current_dir"
      ]
    },
    {
      "cell_type": "markdown",
      "metadata": {},
      "source": [
        "We want to make the parent of the current directory the new current directory\n",
        "* os.path.dirname() gets the parent directory\n",
        "* os.chir() defines the new current directory"
      ]
    },
    {
      "cell_type": "code",
      "execution_count": 2,
      "metadata": {},
      "outputs": [
        {
          "name": "stdout",
          "output_type": "stream",
          "text": [
            "You set a new current directory\n"
          ]
        }
      ],
      "source": [
        "os.chdir(os.path.dirname(current_dir))\n",
        "print(\"You set a new current directory\")"
      ]
    },
    {
      "cell_type": "markdown",
      "metadata": {},
      "source": [
        "Confirm the new current directory"
      ]
    },
    {
      "cell_type": "code",
      "execution_count": 3,
      "metadata": {},
      "outputs": [
        {
          "data": {
            "text/plain": [
              "'s:\\\\Documents\\\\Code Institute\\\\vscode-projects\\\\Hackathon2\\\\Thyroid-Risk-Analysis'"
            ]
          },
          "execution_count": 3,
          "metadata": {},
          "output_type": "execute_result"
        }
      ],
      "source": [
        "current_dir = os.getcwd()\n",
        "current_dir"
      ]
    },
    {
      "cell_type": "markdown",
      "metadata": {},
      "source": [
        "<div style='background-color:#0C9A66; padding: 15px; border-radius: 5px;'>\n",
        "<h1 style='color:#FEFEFE; text-align:left;'>Section 1 :  Data Extraction, Transformation, and Loading (ETL)</h1>\n",
        "</div>"
      ]
    },
    {
      "cell_type": "markdown",
      "metadata": {},
      "source": [
        "Setting up & Importing Python packages that we will be using in this project to carry out the analysis. For example Numpy to compute numerical operations and handle arrays, Pandas for data manipulation and analysis, Matplotlib, Seaborn and Plotly to create different data visualisations."
      ]
    },
    {
      "cell_type": "code",
      "execution_count": 4,
      "metadata": {},
      "outputs": [],
      "source": [
        "import pandas as pd \n",
        "import numpy as np\n",
        "import matplotlib.pyplot as plt\n",
        "import seaborn as sns\n",
        "sns.set_style('whitegrid')\n",
        "import plotly.express as px"
      ]
    },
    {
      "cell_type": "markdown",
      "metadata": {},
      "source": [
        "Data Extraction"
      ]
    },
    {
      "cell_type": "markdown",
      "metadata": {},
      "source": [
        "Loading the CSV dataset containing the data collected previously and extracting it into dataframe using pd.read_csv() function."
      ]
    },
    {
      "cell_type": "code",
      "execution_count": 5,
      "metadata": {},
      "outputs": [],
      "source": [
        "df = pd.read_csv(\"thyroid_cancer_risk_data.csv\")\n"
      ]
    },
    {
      "cell_type": "markdown",
      "metadata": {},
      "source": [
        "Data Cleaning, Tranformation & Analysis "
      ]
    },
    {
      "cell_type": "markdown",
      "metadata": {},
      "source": [
        "Next checking the general information regarding the data such as column names, datatypes of columns, number of entries and the memory space used through .info() method."
      ]
    },
    {
      "cell_type": "code",
      "execution_count": 6,
      "metadata": {},
      "outputs": [
        {
          "name": "stdout",
          "output_type": "stream",
          "text": [
            "<class 'pandas.core.frame.DataFrame'>\n",
            "RangeIndex: 212691 entries, 0 to 212690\n",
            "Data columns (total 17 columns):\n",
            " #   Column               Non-Null Count   Dtype  \n",
            "---  ------               --------------   -----  \n",
            " 0   Patient_ID           212691 non-null  int64  \n",
            " 1   Age                  212691 non-null  int64  \n",
            " 2   Gender               212691 non-null  object \n",
            " 3   Country              212691 non-null  object \n",
            " 4   Ethnicity            212691 non-null  object \n",
            " 5   Family_History       212691 non-null  object \n",
            " 6   Radiation_Exposure   212691 non-null  object \n",
            " 7   Iodine_Deficiency    212691 non-null  object \n",
            " 8   Smoking              212691 non-null  object \n",
            " 9   Obesity              212691 non-null  object \n",
            " 10  Diabetes             212691 non-null  object \n",
            " 11  TSH_Level            212691 non-null  float64\n",
            " 12  T3_Level             212691 non-null  float64\n",
            " 13  T4_Level             212691 non-null  float64\n",
            " 14  Nodule_Size          212691 non-null  float64\n",
            " 15  Thyroid_Cancer_Risk  212691 non-null  object \n",
            " 16  Diagnosis            212691 non-null  object \n",
            "dtypes: float64(4), int64(2), object(11)\n",
            "memory usage: 27.6+ MB\n"
          ]
        }
      ],
      "source": [
        "df.info()"
      ]
    },
    {
      "cell_type": "markdown",
      "metadata": {},
      "source": [
        "Reviewing top 5 entries in dataset to get a general overview of the dataset with .head() method"
      ]
    },
    {
      "cell_type": "code",
      "execution_count": 7,
      "metadata": {},
      "outputs": [
        {
          "data": {
            "text/html": [
              "<div>\n",
              "<style scoped>\n",
              "    .dataframe tbody tr th:only-of-type {\n",
              "        vertical-align: middle;\n",
              "    }\n",
              "\n",
              "    .dataframe tbody tr th {\n",
              "        vertical-align: top;\n",
              "    }\n",
              "\n",
              "    .dataframe thead th {\n",
              "        text-align: right;\n",
              "    }\n",
              "</style>\n",
              "<table border=\"1\" class=\"dataframe\">\n",
              "  <thead>\n",
              "    <tr style=\"text-align: right;\">\n",
              "      <th></th>\n",
              "      <th>Patient_ID</th>\n",
              "      <th>Age</th>\n",
              "      <th>Gender</th>\n",
              "      <th>Country</th>\n",
              "      <th>Ethnicity</th>\n",
              "      <th>Family_History</th>\n",
              "      <th>Radiation_Exposure</th>\n",
              "      <th>Iodine_Deficiency</th>\n",
              "      <th>Smoking</th>\n",
              "      <th>Obesity</th>\n",
              "      <th>Diabetes</th>\n",
              "      <th>TSH_Level</th>\n",
              "      <th>T3_Level</th>\n",
              "      <th>T4_Level</th>\n",
              "      <th>Nodule_Size</th>\n",
              "      <th>Thyroid_Cancer_Risk</th>\n",
              "      <th>Diagnosis</th>\n",
              "    </tr>\n",
              "  </thead>\n",
              "  <tbody>\n",
              "    <tr>\n",
              "      <th>0</th>\n",
              "      <td>1</td>\n",
              "      <td>66</td>\n",
              "      <td>Male</td>\n",
              "      <td>Russia</td>\n",
              "      <td>Caucasian</td>\n",
              "      <td>No</td>\n",
              "      <td>Yes</td>\n",
              "      <td>No</td>\n",
              "      <td>No</td>\n",
              "      <td>No</td>\n",
              "      <td>No</td>\n",
              "      <td>9.37</td>\n",
              "      <td>1.67</td>\n",
              "      <td>6.16</td>\n",
              "      <td>1.08</td>\n",
              "      <td>Low</td>\n",
              "      <td>Benign</td>\n",
              "    </tr>\n",
              "    <tr>\n",
              "      <th>1</th>\n",
              "      <td>2</td>\n",
              "      <td>29</td>\n",
              "      <td>Male</td>\n",
              "      <td>Germany</td>\n",
              "      <td>Hispanic</td>\n",
              "      <td>No</td>\n",
              "      <td>Yes</td>\n",
              "      <td>No</td>\n",
              "      <td>No</td>\n",
              "      <td>No</td>\n",
              "      <td>No</td>\n",
              "      <td>1.83</td>\n",
              "      <td>1.73</td>\n",
              "      <td>10.54</td>\n",
              "      <td>4.05</td>\n",
              "      <td>Low</td>\n",
              "      <td>Benign</td>\n",
              "    </tr>\n",
              "    <tr>\n",
              "      <th>2</th>\n",
              "      <td>3</td>\n",
              "      <td>86</td>\n",
              "      <td>Male</td>\n",
              "      <td>Nigeria</td>\n",
              "      <td>Caucasian</td>\n",
              "      <td>No</td>\n",
              "      <td>No</td>\n",
              "      <td>No</td>\n",
              "      <td>No</td>\n",
              "      <td>No</td>\n",
              "      <td>No</td>\n",
              "      <td>6.26</td>\n",
              "      <td>2.59</td>\n",
              "      <td>10.57</td>\n",
              "      <td>4.61</td>\n",
              "      <td>Low</td>\n",
              "      <td>Benign</td>\n",
              "    </tr>\n",
              "    <tr>\n",
              "      <th>3</th>\n",
              "      <td>4</td>\n",
              "      <td>75</td>\n",
              "      <td>Female</td>\n",
              "      <td>India</td>\n",
              "      <td>Asian</td>\n",
              "      <td>No</td>\n",
              "      <td>No</td>\n",
              "      <td>No</td>\n",
              "      <td>No</td>\n",
              "      <td>No</td>\n",
              "      <td>No</td>\n",
              "      <td>4.10</td>\n",
              "      <td>2.62</td>\n",
              "      <td>11.04</td>\n",
              "      <td>2.46</td>\n",
              "      <td>Medium</td>\n",
              "      <td>Benign</td>\n",
              "    </tr>\n",
              "    <tr>\n",
              "      <th>4</th>\n",
              "      <td>5</td>\n",
              "      <td>35</td>\n",
              "      <td>Female</td>\n",
              "      <td>Germany</td>\n",
              "      <td>African</td>\n",
              "      <td>Yes</td>\n",
              "      <td>Yes</td>\n",
              "      <td>No</td>\n",
              "      <td>No</td>\n",
              "      <td>No</td>\n",
              "      <td>No</td>\n",
              "      <td>9.10</td>\n",
              "      <td>2.11</td>\n",
              "      <td>10.71</td>\n",
              "      <td>2.11</td>\n",
              "      <td>High</td>\n",
              "      <td>Benign</td>\n",
              "    </tr>\n",
              "  </tbody>\n",
              "</table>\n",
              "</div>"
            ],
            "text/plain": [
              "   Patient_ID  Age  Gender  Country  Ethnicity Family_History  \\\n",
              "0           1   66    Male   Russia  Caucasian             No   \n",
              "1           2   29    Male  Germany   Hispanic             No   \n",
              "2           3   86    Male  Nigeria  Caucasian             No   \n",
              "3           4   75  Female    India      Asian             No   \n",
              "4           5   35  Female  Germany    African            Yes   \n",
              "\n",
              "  Radiation_Exposure Iodine_Deficiency Smoking Obesity Diabetes  TSH_Level  \\\n",
              "0                Yes                No      No      No       No       9.37   \n",
              "1                Yes                No      No      No       No       1.83   \n",
              "2                 No                No      No      No       No       6.26   \n",
              "3                 No                No      No      No       No       4.10   \n",
              "4                Yes                No      No      No       No       9.10   \n",
              "\n",
              "   T3_Level  T4_Level  Nodule_Size Thyroid_Cancer_Risk Diagnosis  \n",
              "0      1.67      6.16         1.08                 Low    Benign  \n",
              "1      1.73     10.54         4.05                 Low    Benign  \n",
              "2      2.59     10.57         4.61                 Low    Benign  \n",
              "3      2.62     11.04         2.46              Medium    Benign  \n",
              "4      2.11     10.71         2.11                High    Benign  "
            ]
          },
          "execution_count": 7,
          "metadata": {},
          "output_type": "execute_result"
        }
      ],
      "source": [
        "df.head()"
      ]
    },
    {
      "cell_type": "markdown",
      "metadata": {},
      "source": [
        "Checking for missing values"
      ]
    },
    {
      "cell_type": "code",
      "execution_count": 8,
      "metadata": {},
      "outputs": [
        {
          "data": {
            "text/plain": [
              "Patient_ID             0\n",
              "Age                    0\n",
              "Gender                 0\n",
              "Country                0\n",
              "Ethnicity              0\n",
              "Family_History         0\n",
              "Radiation_Exposure     0\n",
              "Iodine_Deficiency      0\n",
              "Smoking                0\n",
              "Obesity                0\n",
              "Diabetes               0\n",
              "TSH_Level              0\n",
              "T3_Level               0\n",
              "T4_Level               0\n",
              "Nodule_Size            0\n",
              "Thyroid_Cancer_Risk    0\n",
              "Diagnosis              0\n",
              "dtype: int64"
            ]
          },
          "execution_count": 8,
          "metadata": {},
          "output_type": "execute_result"
        }
      ],
      "source": [
        "df.isnull().sum()"
      ]
    },
    {
      "cell_type": "markdown",
      "metadata": {},
      "source": [
        "Checking for each Column's datatype"
      ]
    },
    {
      "cell_type": "code",
      "execution_count": 9,
      "metadata": {},
      "outputs": [
        {
          "data": {
            "text/plain": [
              "Patient_ID               int64\n",
              "Age                      int64\n",
              "Gender                  object\n",
              "Country                 object\n",
              "Ethnicity               object\n",
              "Family_History          object\n",
              "Radiation_Exposure      object\n",
              "Iodine_Deficiency       object\n",
              "Smoking                 object\n",
              "Obesity                 object\n",
              "Diabetes                object\n",
              "TSH_Level              float64\n",
              "T3_Level               float64\n",
              "T4_Level               float64\n",
              "Nodule_Size            float64\n",
              "Thyroid_Cancer_Risk     object\n",
              "Diagnosis               object\n",
              "dtype: object"
            ]
          },
          "execution_count": 9,
          "metadata": {},
          "output_type": "execute_result"
        }
      ],
      "source": [
        "df.dtypes"
      ]
    },
    {
      "cell_type": "markdown",
      "metadata": {},
      "source": [
        "Checking for any duplicate values in data"
      ]
    },
    {
      "cell_type": "code",
      "execution_count": 10,
      "metadata": {},
      "outputs": [
        {
          "name": "stdout",
          "output_type": "stream",
          "text": [
            "There are duplicate entries: False .\n"
          ]
        }
      ],
      "source": [
        "duplicate_check = df.duplicated().any()\n",
        "print('There are duplicate entries:', duplicate_check,'.')"
      ]
    },
    {
      "cell_type": "code",
      "execution_count": 11,
      "metadata": {},
      "outputs": [
        {
          "data": {
            "text/html": [
              "<div>\n",
              "<style scoped>\n",
              "    .dataframe tbody tr th:only-of-type {\n",
              "        vertical-align: middle;\n",
              "    }\n",
              "\n",
              "    .dataframe tbody tr th {\n",
              "        vertical-align: top;\n",
              "    }\n",
              "\n",
              "    .dataframe thead th {\n",
              "        text-align: right;\n",
              "    }\n",
              "</style>\n",
              "<table border=\"1\" class=\"dataframe\">\n",
              "  <thead>\n",
              "    <tr style=\"text-align: right;\">\n",
              "      <th></th>\n",
              "      <th>Patient_ID</th>\n",
              "      <th>Age</th>\n",
              "      <th>Gender</th>\n",
              "      <th>Country</th>\n",
              "      <th>Ethnicity</th>\n",
              "      <th>Family_History</th>\n",
              "      <th>Radiation_Exposure</th>\n",
              "      <th>Iodine_Deficiency</th>\n",
              "      <th>Smoking</th>\n",
              "      <th>Obesity</th>\n",
              "      <th>Diabetes</th>\n",
              "      <th>TSH_Level</th>\n",
              "      <th>T3_Level</th>\n",
              "      <th>T4_Level</th>\n",
              "      <th>Nodule_Size</th>\n",
              "      <th>Thyroid_Cancer_Risk</th>\n",
              "      <th>Diagnosis</th>\n",
              "    </tr>\n",
              "  </thead>\n",
              "  <tbody>\n",
              "    <tr>\n",
              "      <th>0</th>\n",
              "      <td>1</td>\n",
              "      <td>66</td>\n",
              "      <td>Male</td>\n",
              "      <td>Russia</td>\n",
              "      <td>Caucasian</td>\n",
              "      <td>No</td>\n",
              "      <td>Yes</td>\n",
              "      <td>No</td>\n",
              "      <td>No</td>\n",
              "      <td>No</td>\n",
              "      <td>No</td>\n",
              "      <td>9.37</td>\n",
              "      <td>1.67</td>\n",
              "      <td>6.16</td>\n",
              "      <td>1.08</td>\n",
              "      <td>Low</td>\n",
              "      <td>Benign</td>\n",
              "    </tr>\n",
              "    <tr>\n",
              "      <th>1</th>\n",
              "      <td>2</td>\n",
              "      <td>29</td>\n",
              "      <td>Male</td>\n",
              "      <td>Germany</td>\n",
              "      <td>Hispanic</td>\n",
              "      <td>No</td>\n",
              "      <td>Yes</td>\n",
              "      <td>No</td>\n",
              "      <td>No</td>\n",
              "      <td>No</td>\n",
              "      <td>No</td>\n",
              "      <td>1.83</td>\n",
              "      <td>1.73</td>\n",
              "      <td>10.54</td>\n",
              "      <td>4.05</td>\n",
              "      <td>Low</td>\n",
              "      <td>Benign</td>\n",
              "    </tr>\n",
              "    <tr>\n",
              "      <th>2</th>\n",
              "      <td>3</td>\n",
              "      <td>86</td>\n",
              "      <td>Male</td>\n",
              "      <td>Nigeria</td>\n",
              "      <td>Caucasian</td>\n",
              "      <td>No</td>\n",
              "      <td>No</td>\n",
              "      <td>No</td>\n",
              "      <td>No</td>\n",
              "      <td>No</td>\n",
              "      <td>No</td>\n",
              "      <td>6.26</td>\n",
              "      <td>2.59</td>\n",
              "      <td>10.57</td>\n",
              "      <td>4.61</td>\n",
              "      <td>Low</td>\n",
              "      <td>Benign</td>\n",
              "    </tr>\n",
              "    <tr>\n",
              "      <th>3</th>\n",
              "      <td>4</td>\n",
              "      <td>75</td>\n",
              "      <td>Female</td>\n",
              "      <td>India</td>\n",
              "      <td>Asian</td>\n",
              "      <td>No</td>\n",
              "      <td>No</td>\n",
              "      <td>No</td>\n",
              "      <td>No</td>\n",
              "      <td>No</td>\n",
              "      <td>No</td>\n",
              "      <td>4.10</td>\n",
              "      <td>2.62</td>\n",
              "      <td>11.04</td>\n",
              "      <td>2.46</td>\n",
              "      <td>Medium</td>\n",
              "      <td>Benign</td>\n",
              "    </tr>\n",
              "    <tr>\n",
              "      <th>4</th>\n",
              "      <td>5</td>\n",
              "      <td>35</td>\n",
              "      <td>Female</td>\n",
              "      <td>Germany</td>\n",
              "      <td>African</td>\n",
              "      <td>Yes</td>\n",
              "      <td>Yes</td>\n",
              "      <td>No</td>\n",
              "      <td>No</td>\n",
              "      <td>No</td>\n",
              "      <td>No</td>\n",
              "      <td>9.10</td>\n",
              "      <td>2.11</td>\n",
              "      <td>10.71</td>\n",
              "      <td>2.11</td>\n",
              "      <td>High</td>\n",
              "      <td>Benign</td>\n",
              "    </tr>\n",
              "    <tr>\n",
              "      <th>...</th>\n",
              "      <td>...</td>\n",
              "      <td>...</td>\n",
              "      <td>...</td>\n",
              "      <td>...</td>\n",
              "      <td>...</td>\n",
              "      <td>...</td>\n",
              "      <td>...</td>\n",
              "      <td>...</td>\n",
              "      <td>...</td>\n",
              "      <td>...</td>\n",
              "      <td>...</td>\n",
              "      <td>...</td>\n",
              "      <td>...</td>\n",
              "      <td>...</td>\n",
              "      <td>...</td>\n",
              "      <td>...</td>\n",
              "      <td>...</td>\n",
              "    </tr>\n",
              "    <tr>\n",
              "      <th>212686</th>\n",
              "      <td>212687</td>\n",
              "      <td>58</td>\n",
              "      <td>Female</td>\n",
              "      <td>India</td>\n",
              "      <td>Asian</td>\n",
              "      <td>No</td>\n",
              "      <td>No</td>\n",
              "      <td>No</td>\n",
              "      <td>No</td>\n",
              "      <td>Yes</td>\n",
              "      <td>No</td>\n",
              "      <td>2.00</td>\n",
              "      <td>0.64</td>\n",
              "      <td>11.92</td>\n",
              "      <td>1.48</td>\n",
              "      <td>Low</td>\n",
              "      <td>Benign</td>\n",
              "    </tr>\n",
              "    <tr>\n",
              "      <th>212687</th>\n",
              "      <td>212688</td>\n",
              "      <td>89</td>\n",
              "      <td>Male</td>\n",
              "      <td>Japan</td>\n",
              "      <td>Middle Eastern</td>\n",
              "      <td>No</td>\n",
              "      <td>No</td>\n",
              "      <td>No</td>\n",
              "      <td>No</td>\n",
              "      <td>Yes</td>\n",
              "      <td>No</td>\n",
              "      <td>9.77</td>\n",
              "      <td>3.25</td>\n",
              "      <td>7.30</td>\n",
              "      <td>4.46</td>\n",
              "      <td>Medium</td>\n",
              "      <td>Benign</td>\n",
              "    </tr>\n",
              "    <tr>\n",
              "      <th>212688</th>\n",
              "      <td>212689</td>\n",
              "      <td>72</td>\n",
              "      <td>Female</td>\n",
              "      <td>Nigeria</td>\n",
              "      <td>Hispanic</td>\n",
              "      <td>No</td>\n",
              "      <td>No</td>\n",
              "      <td>No</td>\n",
              "      <td>No</td>\n",
              "      <td>No</td>\n",
              "      <td>Yes</td>\n",
              "      <td>7.72</td>\n",
              "      <td>2.44</td>\n",
              "      <td>8.71</td>\n",
              "      <td>2.36</td>\n",
              "      <td>Medium</td>\n",
              "      <td>Benign</td>\n",
              "    </tr>\n",
              "    <tr>\n",
              "      <th>212689</th>\n",
              "      <td>212690</td>\n",
              "      <td>85</td>\n",
              "      <td>Female</td>\n",
              "      <td>Brazil</td>\n",
              "      <td>Middle Eastern</td>\n",
              "      <td>No</td>\n",
              "      <td>No</td>\n",
              "      <td>No</td>\n",
              "      <td>No</td>\n",
              "      <td>No</td>\n",
              "      <td>Yes</td>\n",
              "      <td>5.62</td>\n",
              "      <td>2.53</td>\n",
              "      <td>9.62</td>\n",
              "      <td>1.54</td>\n",
              "      <td>Medium</td>\n",
              "      <td>Benign</td>\n",
              "    </tr>\n",
              "    <tr>\n",
              "      <th>212690</th>\n",
              "      <td>212691</td>\n",
              "      <td>46</td>\n",
              "      <td>Female</td>\n",
              "      <td>Japan</td>\n",
              "      <td>Middle Eastern</td>\n",
              "      <td>No</td>\n",
              "      <td>No</td>\n",
              "      <td>No</td>\n",
              "      <td>Yes</td>\n",
              "      <td>No</td>\n",
              "      <td>No</td>\n",
              "      <td>5.60</td>\n",
              "      <td>2.73</td>\n",
              "      <td>10.59</td>\n",
              "      <td>2.53</td>\n",
              "      <td>Low</td>\n",
              "      <td>Malignant</td>\n",
              "    </tr>\n",
              "  </tbody>\n",
              "</table>\n",
              "<p>212691 rows × 17 columns</p>\n",
              "</div>"
            ],
            "text/plain": [
              "        Patient_ID  Age  Gender  Country       Ethnicity Family_History  \\\n",
              "0                1   66    Male   Russia       Caucasian             No   \n",
              "1                2   29    Male  Germany        Hispanic             No   \n",
              "2                3   86    Male  Nigeria       Caucasian             No   \n",
              "3                4   75  Female    India           Asian             No   \n",
              "4                5   35  Female  Germany         African            Yes   \n",
              "...            ...  ...     ...      ...             ...            ...   \n",
              "212686      212687   58  Female    India           Asian             No   \n",
              "212687      212688   89    Male    Japan  Middle Eastern             No   \n",
              "212688      212689   72  Female  Nigeria        Hispanic             No   \n",
              "212689      212690   85  Female   Brazil  Middle Eastern             No   \n",
              "212690      212691   46  Female    Japan  Middle Eastern             No   \n",
              "\n",
              "       Radiation_Exposure Iodine_Deficiency Smoking Obesity Diabetes  \\\n",
              "0                     Yes                No      No      No       No   \n",
              "1                     Yes                No      No      No       No   \n",
              "2                      No                No      No      No       No   \n",
              "3                      No                No      No      No       No   \n",
              "4                     Yes                No      No      No       No   \n",
              "...                   ...               ...     ...     ...      ...   \n",
              "212686                 No                No      No     Yes       No   \n",
              "212687                 No                No      No     Yes       No   \n",
              "212688                 No                No      No      No      Yes   \n",
              "212689                 No                No      No      No      Yes   \n",
              "212690                 No                No     Yes      No       No   \n",
              "\n",
              "        TSH_Level  T3_Level  T4_Level  Nodule_Size Thyroid_Cancer_Risk  \\\n",
              "0            9.37      1.67      6.16         1.08                 Low   \n",
              "1            1.83      1.73     10.54         4.05                 Low   \n",
              "2            6.26      2.59     10.57         4.61                 Low   \n",
              "3            4.10      2.62     11.04         2.46              Medium   \n",
              "4            9.10      2.11     10.71         2.11                High   \n",
              "...           ...       ...       ...          ...                 ...   \n",
              "212686       2.00      0.64     11.92         1.48                 Low   \n",
              "212687       9.77      3.25      7.30         4.46              Medium   \n",
              "212688       7.72      2.44      8.71         2.36              Medium   \n",
              "212689       5.62      2.53      9.62         1.54              Medium   \n",
              "212690       5.60      2.73     10.59         2.53                 Low   \n",
              "\n",
              "        Diagnosis  \n",
              "0          Benign  \n",
              "1          Benign  \n",
              "2          Benign  \n",
              "3          Benign  \n",
              "4          Benign  \n",
              "...           ...  \n",
              "212686     Benign  \n",
              "212687     Benign  \n",
              "212688     Benign  \n",
              "212689     Benign  \n",
              "212690  Malignant  \n",
              "\n",
              "[212691 rows x 17 columns]"
            ]
          },
          "execution_count": 11,
          "metadata": {},
          "output_type": "execute_result"
        }
      ],
      "source": [
        "# Check missing values\n",
        "df.isnull().sum()  # Shows count of missing values per column\n",
        "\n",
        "# Cleaning any empty values to 0 for easier numeric computation\n",
        "df.fillna(0)  # Fill all missing values with 0"
      ]
    },
    {
      "cell_type": "markdown",
      "metadata": {},
      "source": [
        "Dropping the patient ID column to anonimise the data with .drop() method and then rechecking if it has been dropped with .head() method."
      ]
    },
    {
      "cell_type": "code",
      "execution_count": 12,
      "metadata": {},
      "outputs": [
        {
          "data": {
            "text/html": [
              "<div>\n",
              "<style scoped>\n",
              "    .dataframe tbody tr th:only-of-type {\n",
              "        vertical-align: middle;\n",
              "    }\n",
              "\n",
              "    .dataframe tbody tr th {\n",
              "        vertical-align: top;\n",
              "    }\n",
              "\n",
              "    .dataframe thead th {\n",
              "        text-align: right;\n",
              "    }\n",
              "</style>\n",
              "<table border=\"1\" class=\"dataframe\">\n",
              "  <thead>\n",
              "    <tr style=\"text-align: right;\">\n",
              "      <th></th>\n",
              "      <th>Age</th>\n",
              "      <th>Gender</th>\n",
              "      <th>Country</th>\n",
              "      <th>Ethnicity</th>\n",
              "      <th>Family_History</th>\n",
              "      <th>Radiation_Exposure</th>\n",
              "      <th>Iodine_Deficiency</th>\n",
              "      <th>Smoking</th>\n",
              "      <th>Obesity</th>\n",
              "      <th>Diabetes</th>\n",
              "      <th>TSH_Level</th>\n",
              "      <th>T3_Level</th>\n",
              "      <th>T4_Level</th>\n",
              "      <th>Nodule_Size</th>\n",
              "      <th>Thyroid_Cancer_Risk</th>\n",
              "      <th>Diagnosis</th>\n",
              "    </tr>\n",
              "  </thead>\n",
              "  <tbody>\n",
              "    <tr>\n",
              "      <th>0</th>\n",
              "      <td>66</td>\n",
              "      <td>Male</td>\n",
              "      <td>Russia</td>\n",
              "      <td>Caucasian</td>\n",
              "      <td>No</td>\n",
              "      <td>Yes</td>\n",
              "      <td>No</td>\n",
              "      <td>No</td>\n",
              "      <td>No</td>\n",
              "      <td>No</td>\n",
              "      <td>9.37</td>\n",
              "      <td>1.67</td>\n",
              "      <td>6.16</td>\n",
              "      <td>1.08</td>\n",
              "      <td>Low</td>\n",
              "      <td>Benign</td>\n",
              "    </tr>\n",
              "    <tr>\n",
              "      <th>1</th>\n",
              "      <td>29</td>\n",
              "      <td>Male</td>\n",
              "      <td>Germany</td>\n",
              "      <td>Hispanic</td>\n",
              "      <td>No</td>\n",
              "      <td>Yes</td>\n",
              "      <td>No</td>\n",
              "      <td>No</td>\n",
              "      <td>No</td>\n",
              "      <td>No</td>\n",
              "      <td>1.83</td>\n",
              "      <td>1.73</td>\n",
              "      <td>10.54</td>\n",
              "      <td>4.05</td>\n",
              "      <td>Low</td>\n",
              "      <td>Benign</td>\n",
              "    </tr>\n",
              "    <tr>\n",
              "      <th>2</th>\n",
              "      <td>86</td>\n",
              "      <td>Male</td>\n",
              "      <td>Nigeria</td>\n",
              "      <td>Caucasian</td>\n",
              "      <td>No</td>\n",
              "      <td>No</td>\n",
              "      <td>No</td>\n",
              "      <td>No</td>\n",
              "      <td>No</td>\n",
              "      <td>No</td>\n",
              "      <td>6.26</td>\n",
              "      <td>2.59</td>\n",
              "      <td>10.57</td>\n",
              "      <td>4.61</td>\n",
              "      <td>Low</td>\n",
              "      <td>Benign</td>\n",
              "    </tr>\n",
              "    <tr>\n",
              "      <th>3</th>\n",
              "      <td>75</td>\n",
              "      <td>Female</td>\n",
              "      <td>India</td>\n",
              "      <td>Asian</td>\n",
              "      <td>No</td>\n",
              "      <td>No</td>\n",
              "      <td>No</td>\n",
              "      <td>No</td>\n",
              "      <td>No</td>\n",
              "      <td>No</td>\n",
              "      <td>4.10</td>\n",
              "      <td>2.62</td>\n",
              "      <td>11.04</td>\n",
              "      <td>2.46</td>\n",
              "      <td>Medium</td>\n",
              "      <td>Benign</td>\n",
              "    </tr>\n",
              "    <tr>\n",
              "      <th>4</th>\n",
              "      <td>35</td>\n",
              "      <td>Female</td>\n",
              "      <td>Germany</td>\n",
              "      <td>African</td>\n",
              "      <td>Yes</td>\n",
              "      <td>Yes</td>\n",
              "      <td>No</td>\n",
              "      <td>No</td>\n",
              "      <td>No</td>\n",
              "      <td>No</td>\n",
              "      <td>9.10</td>\n",
              "      <td>2.11</td>\n",
              "      <td>10.71</td>\n",
              "      <td>2.11</td>\n",
              "      <td>High</td>\n",
              "      <td>Benign</td>\n",
              "    </tr>\n",
              "  </tbody>\n",
              "</table>\n",
              "</div>"
            ],
            "text/plain": [
              "   Age  Gender  Country  Ethnicity Family_History Radiation_Exposure  \\\n",
              "0   66    Male   Russia  Caucasian             No                Yes   \n",
              "1   29    Male  Germany   Hispanic             No                Yes   \n",
              "2   86    Male  Nigeria  Caucasian             No                 No   \n",
              "3   75  Female    India      Asian             No                 No   \n",
              "4   35  Female  Germany    African            Yes                Yes   \n",
              "\n",
              "  Iodine_Deficiency Smoking Obesity Diabetes  TSH_Level  T3_Level  T4_Level  \\\n",
              "0                No      No      No       No       9.37      1.67      6.16   \n",
              "1                No      No      No       No       1.83      1.73     10.54   \n",
              "2                No      No      No       No       6.26      2.59     10.57   \n",
              "3                No      No      No       No       4.10      2.62     11.04   \n",
              "4                No      No      No       No       9.10      2.11     10.71   \n",
              "\n",
              "   Nodule_Size Thyroid_Cancer_Risk Diagnosis  \n",
              "0         1.08                 Low    Benign  \n",
              "1         4.05                 Low    Benign  \n",
              "2         4.61                 Low    Benign  \n",
              "3         2.46              Medium    Benign  \n",
              "4         2.11                High    Benign  "
            ]
          },
          "execution_count": 12,
          "metadata": {},
          "output_type": "execute_result"
        }
      ],
      "source": [
        "df = df.drop(columns=[\"Patient_ID\"])\n",
        "df.head()"
      ]
    },
    {
      "cell_type": "markdown",
      "metadata": {},
      "source": [
        "Generating a summary of the statistics of the dataset such mean, total count of entries,minimum and maximum values."
      ]
    },
    {
      "cell_type": "code",
      "execution_count": 13,
      "metadata": {},
      "outputs": [
        {
          "data": {
            "text/html": [
              "<div>\n",
              "<style scoped>\n",
              "    .dataframe tbody tr th:only-of-type {\n",
              "        vertical-align: middle;\n",
              "    }\n",
              "\n",
              "    .dataframe tbody tr th {\n",
              "        vertical-align: top;\n",
              "    }\n",
              "\n",
              "    .dataframe thead th {\n",
              "        text-align: right;\n",
              "    }\n",
              "</style>\n",
              "<table border=\"1\" class=\"dataframe\">\n",
              "  <thead>\n",
              "    <tr style=\"text-align: right;\">\n",
              "      <th></th>\n",
              "      <th>Age</th>\n",
              "      <th>TSH_Level</th>\n",
              "      <th>T3_Level</th>\n",
              "      <th>T4_Level</th>\n",
              "      <th>Nodule_Size</th>\n",
              "    </tr>\n",
              "  </thead>\n",
              "  <tbody>\n",
              "    <tr>\n",
              "      <th>count</th>\n",
              "      <td>212691.000000</td>\n",
              "      <td>212691.000000</td>\n",
              "      <td>212691.000000</td>\n",
              "      <td>212691.000000</td>\n",
              "      <td>212691.000000</td>\n",
              "    </tr>\n",
              "    <tr>\n",
              "      <th>mean</th>\n",
              "      <td>51.918497</td>\n",
              "      <td>5.045102</td>\n",
              "      <td>2.001727</td>\n",
              "      <td>8.246204</td>\n",
              "      <td>2.503403</td>\n",
              "    </tr>\n",
              "    <tr>\n",
              "      <th>std</th>\n",
              "      <td>21.632815</td>\n",
              "      <td>2.860264</td>\n",
              "      <td>0.866248</td>\n",
              "      <td>2.164188</td>\n",
              "      <td>1.444631</td>\n",
              "    </tr>\n",
              "    <tr>\n",
              "      <th>min</th>\n",
              "      <td>15.000000</td>\n",
              "      <td>0.100000</td>\n",
              "      <td>0.500000</td>\n",
              "      <td>4.500000</td>\n",
              "      <td>0.000000</td>\n",
              "    </tr>\n",
              "    <tr>\n",
              "      <th>25%</th>\n",
              "      <td>33.000000</td>\n",
              "      <td>2.570000</td>\n",
              "      <td>1.250000</td>\n",
              "      <td>6.370000</td>\n",
              "      <td>1.250000</td>\n",
              "    </tr>\n",
              "    <tr>\n",
              "      <th>50%</th>\n",
              "      <td>52.000000</td>\n",
              "      <td>5.040000</td>\n",
              "      <td>2.000000</td>\n",
              "      <td>8.240000</td>\n",
              "      <td>2.510000</td>\n",
              "    </tr>\n",
              "    <tr>\n",
              "      <th>75%</th>\n",
              "      <td>71.000000</td>\n",
              "      <td>7.520000</td>\n",
              "      <td>2.750000</td>\n",
              "      <td>10.120000</td>\n",
              "      <td>3.760000</td>\n",
              "    </tr>\n",
              "    <tr>\n",
              "      <th>max</th>\n",
              "      <td>89.000000</td>\n",
              "      <td>10.000000</td>\n",
              "      <td>3.500000</td>\n",
              "      <td>12.000000</td>\n",
              "      <td>5.000000</td>\n",
              "    </tr>\n",
              "  </tbody>\n",
              "</table>\n",
              "</div>"
            ],
            "text/plain": [
              "                 Age      TSH_Level       T3_Level       T4_Level  \\\n",
              "count  212691.000000  212691.000000  212691.000000  212691.000000   \n",
              "mean       51.918497       5.045102       2.001727       8.246204   \n",
              "std        21.632815       2.860264       0.866248       2.164188   \n",
              "min        15.000000       0.100000       0.500000       4.500000   \n",
              "25%        33.000000       2.570000       1.250000       6.370000   \n",
              "50%        52.000000       5.040000       2.000000       8.240000   \n",
              "75%        71.000000       7.520000       2.750000      10.120000   \n",
              "max        89.000000      10.000000       3.500000      12.000000   \n",
              "\n",
              "         Nodule_Size  \n",
              "count  212691.000000  \n",
              "mean        2.503403  \n",
              "std         1.444631  \n",
              "min         0.000000  \n",
              "25%         1.250000  \n",
              "50%         2.510000  \n",
              "75%         3.760000  \n",
              "max         5.000000  "
            ]
          },
          "execution_count": 13,
          "metadata": {},
          "output_type": "execute_result"
        }
      ],
      "source": [
        "df.describe()"
      ]
    },
    {
      "cell_type": "markdown",
      "metadata": {},
      "source": [
        "Save the cleaned dataset with the same name in the same directory after data cleaning and processing (dropping the Patient_ID column, etc...):"
      ]
    },
    {
      "cell_type": "code",
      "execution_count": 14,
      "metadata": {},
      "outputs": [],
      "source": [
        "df.to_csv('thyroid_cancer_risk_data_cleaned.csv', index=False)\n"
      ]
    },
    {
      "cell_type": "markdown",
      "metadata": {},
      "source": [
        "<div style='background-color:#0C9A66; padding: 15px; border-radius: 5px;'>\n",
        "<h1 style='color:#FEFEFE; text-align:left;'>Section 2: Bias Detection</h1>\n",
        "</div>"
      ]
    },
    {
      "cell_type": "markdown",
      "metadata": {},
      "source": [
        "<h2 style='color:#0C9A66;'>Checking the data for any bias in any of the classes</h2>\n",
        "\n",
        "Bias in data can significantly affect the outcomes and interpretations of our analysis. It is crucial to identify and address any biases to ensure the validity and fairness of our results. In this section, we will check for potential biases in the dataset across different classes such as gender, age, ethnicity, and family history."
      ]
    },
    {
      "cell_type": "markdown",
      "metadata": {},
      "source": [
        "# Load the cleaned dataset for Bias Analysis"
      ]
    },
    {
      "cell_type": "code",
      "execution_count": 15,
      "metadata": {},
      "outputs": [
        {
          "name": "stdout",
          "output_type": "stream",
          "text": [
            "Ethnicity\n",
            "Caucasian         63669\n",
            "Asian             53261\n",
            "African           42414\n",
            "Hispanic          32012\n",
            "Middle Eastern    21335\n",
            "Name: count, dtype: int64\n"
          ]
        }
      ],
      "source": [
        "# Analyze demographic representation\n",
        "data = pd.read_csv('thyroid_cancer_risk_data_cleaned.csv')\n",
        "\n",
        "demographic_counts = data['Ethnicity'].value_counts()\n",
        "print(demographic_counts)"
      ]
    },
    {
      "cell_type": "code",
      "execution_count": 16,
      "metadata": {},
      "outputs": [
        {
          "data": {
            "image/png": "[encoded data removed]",
            "text/plain": [
              "<Figure size 640x480 with 1 Axes>"
            ]
          },
          "metadata": {},
          "output_type": "display_data"
        }
      ],
      "source": [
        "#Visualize the demographic distribution\n",
        "\n",
        "# Plot demographic representation\n",
        "demographic_counts.plot(kind='bar', color=['#9BE2C7', '#0C9A66', '#FE6F60', '#C3EEDF', '#373734'])\n",
        "plt.title('Demographic Representation in Dataset')\n",
        "plt.xlabel('Ethnicity')\n",
        "plt.ylabel('Count')\n",
        "plt.xticks(rotation=45)\n",
        "plt.tight_layout()\n",
        "plt.show()"
      ]
    },
    {
      "cell_type": "markdown",
      "metadata": {},
      "source": [
        "The dataset is highly demographic, showing five ethnic groups: Caucasian, Asian, African, Hispanic, and Middle Eastern. \n",
        "\n",
        "* The Caucasians are the most represented group, with 63,669 entries, while the Middle Eastern individuals are the least represented, with only 21,335 entries. The Asians come in with 53,261 entries, Africans with 42,414 entries, and Hispanics with 32,012 entries, showing an uneven distribution.\n",
        "\n",
        "* This, therefore, creates an imbalance that might affect predictive modeling or research. Such models perform way better if this data is over-representative for groups like Caucasians and Asians while performing poorly for groups such as the Middle Eastern and Hispanic populations. The insights drawn from this data may also not generalize well across the whole population; therefore, these might be biased or lead to inequity.\n",
        "\n",
        "* This can be further balanced by collecting more data from underrepresented groups. Other techniques that can be used to reduce bias include oversampling and the generation of synthetic data. Model performance evaluation across demographic groups and the inclusion of fairness metrics in the evaluation frameworks are crucial steps toward ensuring equity.\n",
        "\n",
        "* Transparency in documenting the limitations of the dataset and regular audits for fairness are key to ethical standards in data-driven applications."
      ]
    },
    {
      "cell_type": "code",
      "execution_count": 48,
      "metadata": {},
      "outputs": [
        {
          "data": {
            "text/plain": [
              "<Figure size 1000x500 with 0 Axes>"
            ]
          },
          "metadata": {},
          "output_type": "display_data"
        },
        {
          "data": {
            "image/png": "[encoded data removed]",
            "text/plain": [
              "<Figure size 640x480 with 1 Axes>"
            ]
          },
          "metadata": {},
          "output_type": "display_data"
        },
        {
          "name": "stdout",
          "output_type": "stream",
          "text": [
            "Gender Distribution:\n",
            " Gender\n",
            "Female    0.599588\n",
            "Male      0.400412\n",
            "Name: proportion, dtype: float64\n",
            "\n",
            "Diagnosis Proportions by Gender:\n",
            " Diagnosis    Benign  Malignant\n",
            "Gender                        \n",
            "Female     0.766794   0.233206\n",
            "Male       0.768036   0.231964\n",
            "\n",
            "Chi-squared test p-value: 0.5102\n"
          ]
        },
        {
          "data": {
            "text/plain": [
              "<Figure size 1000x500 with 0 Axes>"
            ]
          },
          "metadata": {},
          "output_type": "display_data"
        },
        {
          "data": {
            "image/png": "[encoded data removed]",
            "text/plain": [
              "<Figure size 640x480 with 1 Axes>"
            ]
          },
          "metadata": {},
          "output_type": "display_data"
        },
        {
          "name": "stdout",
          "output_type": "stream",
          "text": [
            "Gender Distribution:\n",
            " Gender\n",
            "Female    0.599588\n",
            "Male      0.400412\n",
            "Name: proportion, dtype: float64\n",
            "\n",
            "Diagnosis Proportions by Gender:\n",
            " Diagnosis    Benign  Malignant\n",
            "Gender                        \n",
            "Female     0.766794   0.233206\n",
            "Male       0.768036   0.231964\n",
            "\n",
            "Chi-squared test p-value: 0.5102\n"
          ]
        }
      ],
      "source": [
        "import pandas as pd\n",
        "import scipy.stats as stats\n",
        "import matplotlib.pyplot as plt\n",
        "from scipy.stats import chi2_contingency\n",
        "\n",
        "import pandas as pd\n",
        "import matplotlib.pyplot as plt\n",
        "\n",
        "# Check for bias in the dataset regarding gender representation\n",
        "\n",
        "# Load dataset with correct filename\n",
        "df = pd.read_csv('thyroid_cancer_risk_data_cleaned.csv')\n",
        "\n",
        "# 1. Gender distribution analysis\n",
        "gender_dist = df['Gender'].value_counts(normalize=True)\n",
        "\n",
        "# 2. Diagnosis distribution by gender\n",
        "diagnosis_dist = pd.crosstab(df['Gender'], df['Diagnosis'], normalize='index')\n",
        "\n",
        "# 3. Statistical significance test\n",
        "contingency_table = pd.crosstab(df['Gender'], df['Diagnosis'])\n",
        "chi2, p, dof, expected = chi2_contingency(contingency_table)\n",
        "\n",
        "# 4. Visualization\n",
        "plt.figure(figsize=(10,5))\n",
        "diagnosis_dist.plot(kind='bar', stacked=True, color=['#9BE2C7', '#FE6F60'])\n",
        "plt.title('Thyroid Cancer Diagnosis Distribution by Gender')\n",
        "plt.ylabel('Proportion')\n",
        "plt.xticks(rotation=0)\n",
        "plt.show()\n",
        "\n",
        "print(\"Gender Distribution:\\n\", gender_dist)\n",
        "print(\"\\nDiagnosis Proportions by Gender:\\n\", diagnosis_dist)\n",
        "print(f\"\\nChi-squared test p-value: {p:.4f}\")\n",
        "\n",
        "# Check for bias in the dataset regarding gender representation\n",
        "\n",
        "# Load dataset with correct filename\n",
        "df = pd.read_csv('thyroid_cancer_risk_data_cleaned.csv')\n",
        "\n",
        "# 1. Gender distribution analysis\n",
        "gender_dist = df['Gender'].value_counts(normalize=True)\n",
        "\n",
        "# 2. Diagnosis distribution by gender\n",
        "diagnosis_dist = pd.crosstab(df['Gender'], df['Diagnosis'], normalize='index')\n",
        "\n",
        "# 3. Statistical significance test\n",
        "contingency_table = pd.crosstab(df['Gender'], df['Diagnosis'])\n",
        "chi2, p, dof, expected = chi2_contingency(contingency_table)\n",
        "\n",
        "# 4. Visualization\n",
        "plt.figure(figsize=(10,5))\n",
        "diagnosis_dist.plot(kind='bar', stacked=True, color=['#9BE2C7', '#FE6F60'])\n",
        "plt.title('Thyroid Cancer Diagnosis Distribution by Gender')\n",
        "plt.ylabel('Proportion')\n",
        "plt.xticks(rotation=0)\n",
        "plt.show()\n",
        "\n",
        "print(\"Gender Distribution:\\n\", gender_dist)\n",
        "print(\"\\nDiagnosis Proportions by Gender:\\n\", diagnosis_dist)\n",
        "print(f\"\\nChi-squared test p-value: {p:.4f}\")"
      ]
    },
    {
      "cell_type": "markdown",
      "metadata": {},
      "source": [
        "---"
      ]
    },
    {
      "cell_type": "markdown",
      "metadata": {},
      "source": [
        "This result does not show any evidence of gender bias in the diagnosis of thyroid cancer in the dataset:\n",
        "\n",
        "1. **Distribution of Genders**:\n",
        "   - Female: 59.96%\n",
        "   - Male: 40.04%\n",
        "\n",
        "2. **Proportion in Diagnosis by Genders**:\n",
        "   - Female: 76.68% Benign, 23.32% Malignant\n",
        "   - Male: 76.80% Benign, 23.20% Malignant\n",
        "\n",
        "3. **Statistical Test**:\n",
        "   - Chi-square test p-value = 0.5102 (p > 0.05), which means no statistically significant difference in the diagnosis proportions across the genders.\n",
        "\n",
        "4. **Visualization:\n",
        "The bar chart confirms that the proportions of benign and malignant diagnoses are almost identical for both genders, confirming the conclusion there is no gender bias.\n",
        "\n",
        "Based on this analysis, it can be concluded that this data does not show gender bias in the diagnosis outcome of thyroid cancer."
      ]
    },
    {
      "cell_type": "code",
      "execution_count": 45,
      "metadata": {},
      "outputs": [
        {
          "data": {
            "text/plain": [
              "<Figure size 1000x500 with 0 Axes>"
            ]
          },
          "metadata": {},
          "output_type": "display_data"
        },
        {
          "data": {
            "image/png": "[encoded data removed]",
            "text/plain": [
              "<Figure size 640x480 with 1 Axes>"
            ]
          },
          "metadata": {},
          "output_type": "display_data"
        },
        {
          "name": "stdout",
          "output_type": "stream",
          "text": [
            "Age Group Distribution:\n",
            " Age_Group\n",
            "21-40     0.267971\n",
            "41-60     0.266800\n",
            "61-80     0.266748\n",
            "81-100    0.118167\n",
            "0-20      0.080314\n",
            "Name: proportion, dtype: float64\n",
            "\n",
            "Diagnosis Proportions by Age Group:\n",
            " Diagnosis    Benign  Malignant\n",
            "Age_Group                     \n",
            "0-20       0.769992   0.230008\n",
            "21-40      0.766839   0.233161\n",
            "41-60      0.767508   0.232492\n",
            "61-80      0.765453   0.234547\n",
            "81-100     0.770143   0.229857\n",
            "\n",
            "Chi-squared test p-value for age groups: 0.5586\n"
          ]
        }
      ],
      "source": [
        "# Load dataset\n",
        "df = pd.read_csv('thyroid_cancer_risk_data_cleaned.csv')  # Update path if needed\n",
        "\n",
        "# Create age groups for analysis\n",
        "df['Age_Group'] = pd.cut(df['Age'], bins=[0, 20, 40, 60, 80, 100], labels=['0-20', '21-40', '41-60', '61-80', '81-100'])\n",
        "\n",
        "# 1. Age group distribution analysis\n",
        "age_dist = df['Age_Group'].value_counts(normalize=True)\n",
        "\n",
        "# 2. Diagnosis distribution by age group\n",
        "diagnosis_dist_age = pd.crosstab(df['Age_Group'], df['Diagnosis'], normalize='index')\n",
        "\n",
        "# 3. Statistical significance test for age groups\n",
        "contingency_table_age = pd.crosstab(df['Age_Group'], df['Diagnosis'])\n",
        "chi2_age, p_age, dof_age, expected_age = chi2_contingency(contingency_table_age)\n",
        "\n",
        "# 4. Visualization\n",
        "plt.figure(figsize=(10,5))\n",
        "diagnosis_dist_age.plot(kind='bar', stacked=True, color=['#0C9A66', '#FE6F60'])\n",
        "plt.title('Thyroid Cancer Diagnosis Distribution by Age Group')\n",
        "plt.ylabel('Proportion')\n",
        "plt.xticks(rotation=45)\n",
        "plt.show()\n",
        "\n",
        "print(\"Age Group Distribution:\\n\", age_dist)\n",
        "print(\"\\nDiagnosis Proportions by Age Group:\\n\", diagnosis_dist_age)\n",
        "print(f\"\\nChi-squared test p-value for age groups: {p_age:.4f}\")"
      ]
    },
    {
      "cell_type": "markdown",
      "metadata": {},
      "source": [
        "The analysis does not show any bias in thyroid cancer diagnosis based on age groups within this dataset. Diagnosis outcomes (benign vs. malignant) appear consistent across all age ranges, as supported by the high p-value and similar proportions in each group."
      ]
    },
    {
      "cell_type": "code",
      "execution_count": 19,
      "metadata": {},
      "outputs": [
        {
          "name": "stdout",
          "output_type": "stream",
          "text": [
            "Percentage Distribution of Thyroid Cancer Risk by Family History:\n"
          ]
        },
        {
          "data": {
            "text/html": [
              "<div>\n",
              "<style scoped>\n",
              "    .dataframe tbody tr th:only-of-type {\n",
              "        vertical-align: middle;\n",
              "    }\n",
              "\n",
              "    .dataframe tbody tr th {\n",
              "        vertical-align: top;\n",
              "    }\n",
              "\n",
              "    .dataframe thead th {\n",
              "        text-align: right;\n",
              "    }\n",
              "</style>\n",
              "<table border=\"1\" class=\"dataframe\">\n",
              "  <thead>\n",
              "    <tr style=\"text-align: right;\">\n",
              "      <th>Thyroid_Cancer_Risk</th>\n",
              "      <th>High</th>\n",
              "      <th>Low</th>\n",
              "      <th>Medium</th>\n",
              "    </tr>\n",
              "    <tr>\n",
              "      <th>Family_History</th>\n",
              "      <th></th>\n",
              "      <th></th>\n",
              "      <th></th>\n",
              "    </tr>\n",
              "  </thead>\n",
              "  <tbody>\n",
              "    <tr>\n",
              "      <th>No</th>\n",
              "      <td>7.843295</td>\n",
              "      <td>55.245657</td>\n",
              "      <td>36.911048</td>\n",
              "    </tr>\n",
              "    <tr>\n",
              "      <th>Yes</th>\n",
              "      <td>31.691344</td>\n",
              "      <td>40.965139</td>\n",
              "      <td>27.343517</td>\n",
              "    </tr>\n",
              "  </tbody>\n",
              "</table>\n",
              "</div>"
            ],
            "text/plain": [
              "Thyroid_Cancer_Risk       High        Low     Medium\n",
              "Family_History                                      \n",
              "No                    7.843295  55.245657  36.911048\n",
              "Yes                  31.691344  40.965139  27.343517"
            ]
          },
          "metadata": {},
          "output_type": "display_data"
        },
        {
          "data": {
            "text/plain": [
              "<Figure size 1000x600 with 0 Axes>"
            ]
          },
          "metadata": {},
          "output_type": "display_data"
        },
        {
          "data": {
            "image/png": "[encoded data removed]",
            "text/plain": [
              "<Figure size 640x480 with 1 Axes>"
            ]
          },
          "metadata": {},
          "output_type": "display_data"
        },
        {
          "name": "stdout",
          "output_type": "stream",
          "text": [
            "Chi-squared test p-value for family history: 0.0000\n",
            "There is a statistically significant association between family history and thyroid cancer risk.\n"
          ]
        }
      ],
      "source": [
        "# Load and analyze family history bias\n",
        "data = pd.read_csv('thyroid_cancer_risk_data.csv')\n",
        "\n",
        "# Calculate risk distribution\n",
        "risk_distribution = data.groupby(['Family_History', 'Thyroid_Cancer_Risk']).size().unstack(fill_value=0)\n",
        "percentage_distribution = risk_distribution.div(risk_distribution.sum(axis=1), axis=0) * 100\n",
        "\n",
        "# Display the percentage distribution\n",
        "print(\"Percentage Distribution of Thyroid Cancer Risk by Family History:\")\n",
        "display(percentage_distribution)\n",
        "\n",
        "# Visualize the distribution\n",
        "plt.figure(figsize=(10, 6))\n",
        "percentage_distribution.plot(kind='bar', stacked=True, color=['#9BE2C7', '#0C9A66', '#FE6F60'])\n",
        "plt.title('Thyroid Cancer Risk Distribution by Family History')\n",
        "plt.xlabel('Family History')\n",
        "plt.ylabel('Percentage')\n",
        "plt.xticks(rotation=0)\n",
        "plt.legend(title='Thyroid Cancer Risk')\n",
        "plt.tight_layout()\n",
        "plt.show()\n",
        "\n",
        "# Statistical significance test\n",
        "contingency_table_family_history = pd.crosstab(data['Family_History'], data['Thyroid_Cancer_Risk'])\n",
        "chi2_family_history, p_family_history, dof_family_history, expected_family_history = chi2_contingency(contingency_table_family_history)\n",
        "\n",
        "print(f\"Chi-squared test p-value for family history: {p_family_history:.4f}\")\n",
        "\n",
        "# Interpretation\n",
        "if p_family_history < 0.05:\n",
        "    print(\"There is a statistically significant association between family history and thyroid cancer risk.\")\n",
        "else:\n",
        "    print(\"There is no statistically significant association between family history and thyroid cancer risk.\")"
      ]
    },
    {
      "cell_type": "markdown",
      "metadata": {},
      "source": [
        "<div style='background-color:#0C9A66; padding: 15px; border-radius: 5px;'>\n",
        "<h1 style='color:#FEFEFE; text-align:left;'>Section 3: Analysis</h1>\n",
        "</div>"
      ]
    },
    {
      "cell_type": "markdown",
      "metadata": {},
      "source": [
        "<div style='background-color:#0C9A66; padding: 15px; border-radius: 5px;'>\n",
        "    <h4 style='color:#FEFEFE; text-align:left;'>Hypothesis 1: Age and gender influence thyroid cancer risk, with older individuals and females having a higher probability.</h4>\n",
        "    <p style='color:#FEFEFE; text-align:left;'>\n",
        "        <strong>Validation:</strong> Use box plots and regression analysis to explore how cancer risk varies across different age groups and gender distributions.\n",
        "        <br>\n",
        "        <strong>Logistic Regression Modeling:</strong> Fitting a logistic regression model to quantify the effect of age and gender on thyroid cancer probability.\n",
        "    </p>\n",
        "</div>\n",
        "\n"
      ]
    },
    {
      "cell_type": "markdown",
      "metadata": {},
      "source": [
        "\n",
        "\n",
        "\n",
        "\n"
      ]
    },
    {
      "cell_type": "code",
      "execution_count": 20,
      "metadata": {},
      "outputs": [
        {
          "name": "stdout",
          "output_type": "stream",
          "text": [
            "Optimization terminated successfully.\n",
            "         Current function value: 0.994911\n",
            "         Iterations: 13\n",
            "         Function evaluations: 16\n",
            "         Gradient evaluations: 16\n",
            "                                  OrderedModel Results                                 \n",
            "=======================================================================================\n",
            "Dep. Variable:     Thyroid_Cancer_Risk_Numeric   Log-Likelihood:            -2.1161e+05\n",
            "Model:                            OrderedModel   AIC:                         4.232e+05\n",
            "Method:                     Maximum Likelihood   BIC:                         4.233e+05\n",
            "Date:                         Mon, 10 Mar 2025                                         \n",
            "Time:                                 15:51:37                                         \n",
            "No. Observations:                       212691                                         \n",
            "Df Residuals:                           212687                                         \n",
            "Df Model:                                    2                                         \n",
            "=================================================================================\n",
            "                    coef    std err          z      P>|z|      [0.025      0.975]\n",
            "---------------------------------------------------------------------------------\n",
            "Age               0.0003      0.000      1.504      0.133   -8.72e-05       0.001\n",
            "Gender_Binary     0.0178      0.008      2.111      0.035       0.001       0.034\n",
            "1/2               0.0640      0.012      5.354      0.000       0.041       0.087\n",
            "2/3               0.5284      0.003    155.718      0.000       0.522       0.535\n",
            "=================================================================================\n"
          ]
        }
      ],
      "source": [
        "from statsmodels.miscmodels.ordinal_model import OrderedModel\n",
        "\n",
        "# Convert categorical variables to numerical values\n",
        "df['Thyroid_Cancer_Risk_Numeric'] = df['Thyroid_Cancer_Risk'].map({'Low': 1, 'Medium': 2, 'High': 3})\n",
        "df['Gender_Binary'] = df['Gender'].map({'Female': 1, 'Male': 0})\n",
        "\n",
        "# Define independent variables (without intercept)\n",
        "X_ordinal = df[['Age', 'Gender_Binary']]\n",
        "\n",
        "# Fit ordinal logistic regression model\n",
        "ordinal_model = OrderedModel(df['Thyroid_Cancer_Risk_Numeric'], X_ordinal, distr='logit')\n",
        "ordinal_result = ordinal_model.fit(method='bfgs')\n",
        "\n",
        "# Display the summary of results\n",
        "print(ordinal_result.summary())"
      ]
    },
    {
      "cell_type": "markdown",
      "metadata": {},
      "source": [
        "<div style='background-color:#0C9A66; padding: 15px; border-radius: 5px;'>\n",
        "    <h4 style='color:#FEFEFE; text-align:left;'>Interpretation: Odds Ratio (OR) Interpretation</h4>\n",
        "</div>\n"
      ]
    },
    {
      "cell_type": "markdown",
      "metadata": {},
      "source": [
        "If exp(Gender_Binary) = 1.018, it means that females have 1.8% higher odds of being classified into a higher thyroid cancer risk category compared to males, holding age constant.\n",
        "If exp(Age) = 1.0003, it means that each additional year of age increases the odds of being in a higher thyroid cancer risk category by 0.03%, which is very small and not statistically significant (p = 0.133).\n",
        "Confidence Interval (CI):\n",
        "\n",
        "The 95% CI for gender (1.001 to 1.035) means we are 95% confident that the true effect lies within this range.\n",
        "The 95% CI for age (1.000 to 1.001) suggests very little change in risk per year of age, meaning age might not be a strong predictor.\n",
        "\n",
        "What does this actually mean in real-world terms?\n",
        "\n",
        "Gender Influence: The model suggests that females have a slightly higher risk of being classified into a higher thyroid cancer risk group.\n",
        "\n",
        "This aligns with real-world medical studies, where women are more likely to develop thyroid nodules and thyroid cancer.\n",
        "However, the effect size (1.8% increase) is small.\n",
        "Age Influence: The effect of age is statistically insignificant, meaning age alone does not strongly predict thyroid cancer risk in this dataset.\n",
        "\n",
        "This might be because age interacts with other factors, such as radiation exposure, family history, or hormonal differences."
      ]
    },
    {
      "cell_type": "markdown",
      "metadata": {},
      "source": [
        "<div style='background-color:#0C9A66; padding: 15px; border-radius: 5px;'>\n",
        "    <h4 style='color:#FEFEFE; text-align:left;'>Predicting Thyroid Cancer Risk</h4>\n",
        "</div>"
      ]
    },
    {
      "cell_type": "code",
      "execution_count": 21,
      "metadata": {},
      "outputs": [
        {
          "data": {
            "application/vnd.jupyter.widget-view+json": {
              "model_id": "c3e2e1f4f4df4944b43317aa513b9936",
              "version_major": 2,
              "version_minor": 0
            },
            "text/plain": [
              "IntSlider(value=30, description='Age:', max=90, min=15)"
            ]
          },
          "metadata": {},
          "output_type": "display_data"
        },
        {
          "data": {
            "application/vnd.jupyter.widget-view+json": {
              "model_id": "4a01035c010e4c448dfc49ffbe1d897d",
              "version_major": 2,
              "version_minor": 0
            },
            "text/plain": [
              "Dropdown(description='Gender:', options=('Female', 'Male'), value='Female')"
            ]
          },
          "metadata": {},
          "output_type": "display_data"
        },
        {
          "data": {
            "application/vnd.jupyter.widget-view+json": {
              "model_id": "94e71d12452f49859b45d0df4d3cd411",
              "version_major": 2,
              "version_minor": 0
            },
            "text/plain": [
              "Output()"
            ]
          },
          "metadata": {},
          "output_type": "display_data"
        }
      ],
      "source": [
        "import ipywidgets as widgets\n",
        "from IPython.display import display\n",
        "\n",
        "# Function to predict thyroid cancer risk\n",
        "def predict_thyroid_risk(age, gender='Female'):\n",
        "    gender_binary = 1 if gender == 'Female' else 0\n",
        "    \n",
        "    log_odds_low_medium = ordinal_result.params['Age'] * age + ordinal_result.params['Gender_Binary'] * gender_binary + ordinal_result.params['1/2']\n",
        "    log_odds_medium_high = ordinal_result.params['Age'] * age + ordinal_result.params['Gender_Binary'] * gender_binary + ordinal_result.params['2/3']\n",
        "    \n",
        "    prob_low = 1 / (1 + np.exp(-log_odds_low_medium))\n",
        "    prob_medium = 1 / (1 + np.exp(-log_odds_medium_high)) - prob_low\n",
        "    prob_high = 1 - (prob_low + prob_medium)\n",
        "    \n",
        "    return prob_low, prob_medium, prob_high\n",
        "\n",
        "# Create interactive widgets\n",
        "age_slider = widgets.IntSlider(min=15, max=90, value=30, description=\"Age:\")\n",
        "gender_dropdown = widgets.Dropdown(options=[\"Female\", \"Male\"], value=\"Female\", description=\"Gender:\")\n",
        "output = widgets.Output()\n",
        "\n",
        "# Function to update prediction\n",
        "def update_prediction(change):\n",
        "    with output:\n",
        "        output.clear_output()\n",
        "        age = age_slider.value\n",
        "        gender = gender_dropdown.value\n",
        "        prob_low, prob_medium, prob_high = predict_thyroid_risk(age, gender)\n",
        "        display(f\"For Age: {age}, Gender: {gender}\")\n",
        "        display(f\"Probability of Low Risk: {prob_low:.4f}\")\n",
        "        display(f\"Probability of Medium Risk: {prob_medium:.4f}\")\n",
        "        display(f\"Probability of High Risk: {prob_high:.4f}\")\n",
        "\n",
        "# Attach event handlers\n",
        "age_slider.observe(update_prediction, names=\"value\")\n",
        "gender_dropdown.observe(update_prediction, names=\"value\")\n",
        "\n",
        "# Display widgets and output\n",
        "display(age_slider, gender_dropdown, output)"
      ]
    },
    {
      "cell_type": "code",
      "execution_count": 22,
      "metadata": {},
      "outputs": [],
      "source": [
        "# Update the prediction initially\n",
        "update_prediction(None)"
      ]
    },
    {
      "cell_type": "code",
      "execution_count": 23,
      "metadata": {},
      "outputs": [
        {
          "data": {
            "image/png": "[encoded data removed]",
            "text/plain": [
              "<Figure size 800x500 with 1 Axes>"
            ]
          },
          "metadata": {},
          "output_type": "display_data"
        }
      ],
      "source": [
        "# Define custom color palette for gender categories\n",
        "gender_palette = {\"Male\": \"#FE6F60\", \"Female\": \"#0C9A66\"}  # Adjusted from your palette\n",
        "\n",
        "# Plot Gender Proportion in Thyroid Cancer Risk\n",
        "plt.figure(figsize=(8, 5))\n",
        "sns.countplot(x='Thyroid_Cancer_Risk', hue='Gender', data=df, palette=gender_palette)\n",
        "plt.title(\"Thyroid Cancer Risk Distribution by Gender\")\n",
        "plt.xlabel(\"Thyroid Cancer Risk Level\")\n",
        "plt.ylabel(\"Count\")\n",
        "plt.show()"
      ]
    },
    {
      "cell_type": "markdown",
      "metadata": {},
      "source": [
        "Plot Age Distribution by Thyroid Cancer Risk"
      ]
    },
    {
      "cell_type": "code",
      "execution_count": 24,
      "metadata": {},
      "outputs": [
        {
          "name": "stderr",
          "output_type": "stream",
          "text": [
            "C:\\Users\\Iqra\\AppData\\Local\\Temp\\ipykernel_35892\\1304348898.py:6: FutureWarning: \n",
            "\n",
            "Passing `palette` without assigning `hue` is deprecated and will be removed in v0.14.0. Assign the `x` variable to `hue` and set `legend=False` for the same effect.\n",
            "\n",
            "  sns.boxplot(x=df['Thyroid_Cancer_Risk'], y=df['Age'], palette=box_palette)\n",
            "C:\\Users\\Iqra\\AppData\\Local\\Temp\\ipykernel_35892\\1304348898.py:6: UserWarning: The palette list has more values (4) than needed (3), which may not be intended.\n",
            "  sns.boxplot(x=df['Thyroid_Cancer_Risk'], y=df['Age'], palette=box_palette)\n"
          ]
        },
        {
          "data": {
            "image/png": "[encoded data removed]",
            "text/plain": [
              "<Figure size 1200x600 with 1 Axes>"
            ]
          },
          "metadata": {},
          "output_type": "display_data"
        }
      ],
      "source": [
        "# Define custom color palette for the boxplot\n",
        "box_palette = [\"#9BE2C7\", \"#FE6F60\", \"#373734\", \"#0C9A66\"]  # Adjusted from your palette\n",
        "\n",
        "# Plot Age Distribution by Thyroid Cancer Risk Level\n",
        "plt.figure(figsize=(12, 6))\n",
        "sns.boxplot(x=df['Thyroid_Cancer_Risk'], y=df['Age'], palette=box_palette)\n",
        "plt.title(\"Age Distribution by Thyroid Cancer Risk Level\")\n",
        "plt.xlabel(\"Thyroid Cancer Risk Level\")\n",
        "plt.ylabel(\"Age\")\n",
        "plt.show()"
      ]
    },
    {
      "cell_type": "markdown",
      "metadata": {},
      "source": [
        "<div style='background-color:#0C9A66; padding: 15px; border-radius: 5px;'>\n",
        "    <h4 style='color:#FEFEFE; text-align:left;'>Hypothesis 2: Certain countries and ethnicities have a higher prevalence of thyroid cancer due to genetic and environmental factors.</h4>\n",
        "</div>\n"
      ]
    },
    {
      "cell_type": "markdown",
      "metadata": {},
      "source": [
        "\n",
        "<h3 style='color:#0C9A66;'>Key Goals:</h3>\n",
        "\n",
        "Identify high-risk regions where thyroid cancer is more prevalent.\n",
        "Analyze variations in thyroid cancer risk across different countries.\n",
        "Support health policy and decision-making by providing a data-driven overview of thyroid cancer risk worldwide.\n",
        "\n",
        "\n",
        "<h3 style='color:#0C9A66;'>Calculate the proportion of each risk level for each country</h3>\n",
        "\n",
        "The following code Compute Proportion of Each Risk Level by Country by ( Grouping the data by country and risk level (Low, Medium, High).\n",
        "Computing the number of individuals per risk level (Count).\n",
        "Computing total individuals per country (Total).\n",
        "Calculating the percentage of each risk level per country (Proportion).)\n",
        "\n",
        "Final Deliverable: An interactive visual analytics dashboard to communicate insights effectively.\n"
      ]
    },
    {
      "cell_type": "code",
      "execution_count": 25,
      "metadata": {},
      "outputs": [],
      "source": [
        "cancer_cases_by_country = df.groupby([\"Country\", \"Thyroid_Cancer_Risk\"]).size().reset_index(name=\"Count\")\n",
        "total_counts = df.groupby(\"Country\").size().reset_index(name=\"Total\")\n",
        "cancer_cases_by_country = cancer_cases_by_country.merge(total_counts, on=\"Country\")\n",
        "cancer_cases_by_country[\"Proportion\"] = (cancer_cases_by_country[\"Count\"] / cancer_cases_by_country[\"Total\"]) * 100  # Convert to percentage"
      ]
    },
    {
      "cell_type": "markdown",
      "metadata": {},
      "source": [
        "The following code is create A custom Green-Yellow-Red scale:\n",
        "Green (Low Risk)\n",
        "Yellow (Medium Risk)\n",
        "Red (High Risk)\n",
        "Purpose: Helps in visually distinguishing risk levels on the map."
      ]
    },
    {
      "cell_type": "code",
      "execution_count": 26,
      "metadata": {},
      "outputs": [],
      "source": [
        "custom_color_scale = [[0.0, '#9BE2C7'], [0.5, '#0C9A66'], [1.0, '#FE6F60']]"
      ]
    },
    {
      "cell_type": "markdown",
      "metadata": {},
      "source": [
        "The Following Code is to create an interactive choropleth visualization showing how different risk levels are distributed across the world: Creates a world map for each risk level (Low, Medium, High).\n",
        "Uses facet_row=\"Thyroid_Cancer_Risk\" → Each risk level is displayed as a separate stacked map.\n",
        "Uses the custom color scale to visualize proportions"
      ]
    },
    {
      "cell_type": "code",
      "execution_count": 28,
      "metadata": {},
      "outputs": [],
      "source": [
        "fig_geo = px.choropleth(\n",
        "    cancer_cases_by_country,\n",
        "    locations=\"Country\",\n",
        "    locationmode=\"country names\",\n",
        "    color=\"Proportion\",\n",
        "    facet_row=\"Thyroid_Cancer_Risk\",  # Stack maps vertically\n",
        "    color_continuous_scale=custom_color_scale,  # Apply the custom color scale\n",
        "    title=\"Geospatial Distribution of Thyroid Cancer Risk by Level\",\n",
        "    labels={\"Proportion\": \"Proportion of Risk Level (%)\"}  # Update label to show percentage\n",
        ")"
      ]
    },
    {
      "cell_type": "code",
      "execution_count": 29,
      "metadata": {},
      "outputs": [
        {
          "data": {
            "application/vnd.plotly.v1+json": {
              "config": {
                "plotlyServerURL": "https://plot.ly"
              },
              "data": [
                {
                  "coloraxis": "coloraxis",
                  "geo": "geo3",
                  "hovertemplate": "Thyroid_Cancer_Risk=High<br>Country=%{location}<br>Proportion of Risk Level (%)=%{z}<extra></extra>",
                  "locationmode": "country names",
                  "locations": [
                    "Brazil",
                    "China",
                    "Germany",
                    "India",
                    "Japan",
                    "Nigeria",
                    "Russia",
                    "South Korea",
                    "UK",
                    "USA"
                  ],
                  "name": "",
                  "type": "choropleth",
                  "z": [
                    10.77849904263765,
                    10.848083057101759,
                    10.580657383726438,
                    32.86191641566265,
                    10.061065986838205,
                    10.51757628924118,
                    10.452176362868009,
                    10.497828265953894,
                    10.402180041345611,
                    10.286039022542148
                  ]
                },
                {
                  "coloraxis": "coloraxis",
                  "geo": "geo2",
                  "hovertemplate": "Thyroid_Cancer_Risk=Low<br>Country=%{location}<br>Proportion of Risk Level (%)=%{z}<extra></extra>",
                  "locationmode": "country names",
                  "locations": [
                    "Brazil",
                    "China",
                    "Germany",
                    "India",
                    "Japan",
                    "Nigeria",
                    "Russia",
                    "South Korea",
                    "UK",
                    "USA"
                  ],
                  "name": "",
                  "type": "choropleth",
                  "z": [
                    53.0238640078457,
                    53.599349552817564,
                    54.03050108932462,
                    40.27908509036144,
                    53.99893282741448,
                    53.49959270630992,
                    53.81978682443537,
                    53.077180086869355,
                    54.52922383010712,
                    53.80753930668687
                  ]
                },
                {
                  "coloraxis": "coloraxis",
                  "geo": "geo",
                  "hovertemplate": "Thyroid_Cancer_Risk=Medium<br>Country=%{location}<br>Proportion of Risk Level (%)=%{z}<extra></extra>",
                  "locationmode": "country names",
                  "locations": [
                    "Brazil",
                    "China",
                    "Germany",
                    "India",
                    "Japan",
                    "Nigeria",
                    "Russia",
                    "South Korea",
                    "UK",
                    "USA"
                  ],
                  "name": "",
                  "type": "choropleth",
                  "z": [
                    36.19763694951665,
                    35.55256739008068,
                    35.388841526948944,
                    26.858998493975903,
                    35.94000118574732,
                    35.9828310044489,
                    35.72803681269662,
                    36.424991647176746,
                    35.06859612854726,
                    35.906421670770975
                  ]
                }
              ],
              "layout": {
                "annotations": [
                  {
                    "font": {},
                    "showarrow": false,
                    "text": "Thyroid_Cancer_Risk=Medium",
                    "textangle": 90,
                    "x": 0.98,
                    "xanchor": "left",
                    "xref": "paper",
                    "y": 0.15666666666666665,
                    "yanchor": "middle",
                    "yref": "paper"
                  },
                  {
                    "font": {},
                    "showarrow": false,
                    "text": "Thyroid_Cancer_Risk=Low",
                    "textangle": 90,
                    "x": 0.98,
                    "xanchor": "left",
                    "xref": "paper",
                    "y": 0.4999999999999999,
                    "yanchor": "middle",
                    "yref": "paper"
                  },
                  {
                    "font": {},
                    "showarrow": false,
                    "text": "Thyroid_Cancer_Risk=High",
                    "textangle": 90,
                    "x": 0.98,
                    "xanchor": "left",
                    "xref": "paper",
                    "y": 0.8433333333333332,
                    "yanchor": "middle",
                    "yref": "paper"
                  }
                ],
                "coloraxis": {
                  "colorbar": {
                    "tickfont": {
                      "size": 16
                    },
                    "ticktext": [
                      "0%",
                      "10%",
                      "20%",
                      "30%",
                      "40%",
                      "50%",
                      "60%",
                      "70%",
                      "80%",
                      "90%",
                      "100%"
                    ],
                    "tickvals": [
                      0,
                      10,
                      20,
                      30,
                      40,
                      50,
                      60,
                      70,
                      80,
                      90,
                      100
                    ],
                    "title": {
                      "text": "Risk Proportion (%)"
                    }
                  },
                  "colorscale": [
                    [
                      0,
                      "#9BE2C7"
                    ],
                    [
                      0.5,
                      "#0C9A66"
                    ],
                    [
                      1,
                      "#FE6F60"
                    ]
                  ]
                },
                "geo": {
                  "center": {},
                  "domain": {
                    "x": [
                      0,
                      0.98
                    ],
                    "y": [
                      0,
                      0.3133333333333333
                    ]
                  }
                },
                "geo2": {
                  "center": {},
                  "domain": {
                    "x": [
                      0,
                      0.98
                    ],
                    "y": [
                      0.34333333333333327,
                      0.6566666666666665
                    ]
                  }
                },
                "geo3": {
                  "center": {},
                  "domain": {
                    "x": [
                      0,
                      0.98
                    ],
                    "y": [
                      0.6866666666666665,
                      0.9999999999999998
                    ]
                  }
                },
                "height": 1600,
                "legend": {
                  "tracegroupgap": 0
                },
                "margin": {
                  "b": 0,
                  "l": 0,
                  "r": 0,
                  "t": 40
                },
                "template": {
                  "data": {
                    "bar": [
                      {
                        "error_x": {
                          "color": "#2a3f5f"
                        },
                        "error_y": {
                          "color": "#2a3f5f"
                        },
                        "marker": {
                          "line": {
                            "color": "#E5ECF6",
                            "width": 0.5
                          },
                          "pattern": {
                            "fillmode": "overlay",
                            "size": 10,
                            "solidity": 0.2
                          }
                        },
                        "type": "bar"
                      }
                    ],
                    "barpolar": [
                      {
                        "marker": {
                          "line": {
                            "color": "#E5ECF6",
                            "width": 0.5
                          },
                          "pattern": {
                            "fillmode": "overlay",
                            "size": 10,
                            "solidity": 0.2
                          }
                        },
                        "type": "barpolar"
                      }
                    ],
                    "carpet": [
                      {
                        "aaxis": {
                          "endlinecolor": "#2a3f5f",
                          "gridcolor": "white",
                          "linecolor": "white",
                          "minorgridcolor": "white",
                          "startlinecolor": "#2a3f5f"
                        },
                        "baxis": {
                          "endlinecolor": "#2a3f5f",
                          "gridcolor": "white",
                          "linecolor": "white",
                          "minorgridcolor": "white",
                          "startlinecolor": "#2a3f5f"
                        },
                        "type": "carpet"
                      }
                    ],
                    "choropleth": [
                      {
                        "colorbar": {
                          "outlinewidth": 0,
                          "ticks": ""
                        },
                        "type": "choropleth"
                      }
                    ],
                    "contour": [
                      {
                        "colorbar": {
                          "outlinewidth": 0,
                          "ticks": ""
                        },
                        "colorscale": [
                          [
                            0,
                            "#0d0887"
                          ],
                          [
                            0.1111111111111111,
                            "#46039f"
                          ],
                          [
                            0.2222222222222222,
                            "#7201a8"
                          ],
                          [
                            0.3333333333333333,
                            "#9c179e"
                          ],
                          [
                            0.4444444444444444,
                            "#bd3786"
                          ],
                          [
                            0.5555555555555556,
                            "#d8576b"
                          ],
                          [
                            0.6666666666666666,
                            "#ed7953"
                          ],
                          [
                            0.7777777777777778,
                            "#fb9f3a"
                          ],
                          [
                            0.8888888888888888,
                            "#fdca26"
                          ],
                          [
                            1,
                            "#f0f921"
                          ]
                        ],
                        "type": "contour"
                      }
                    ],
                    "contourcarpet": [
                      {
                        "colorbar": {
                          "outlinewidth": 0,
                          "ticks": ""
                        },
                        "type": "contourcarpet"
                      }
                    ],
                    "heatmap": [
                      {
                        "colorbar": {
                          "outlinewidth": 0,
                          "ticks": ""
                        },
                        "colorscale": [
                          [
                            0,
                            "#0d0887"
                          ],
                          [
                            0.1111111111111111,
                            "#46039f"
                          ],
                          [
                            0.2222222222222222,
                            "#7201a8"
                          ],
                          [
                            0.3333333333333333,
                            "#9c179e"
                          ],
                          [
                            0.4444444444444444,
                            "#bd3786"
                          ],
                          [
                            0.5555555555555556,
                            "#d8576b"
                          ],
                          [
                            0.6666666666666666,
                            "#ed7953"
                          ],
                          [
                            0.7777777777777778,
                            "#fb9f3a"
                          ],
                          [
                            0.8888888888888888,
                            "#fdca26"
                          ],
                          [
                            1,
                            "#f0f921"
                          ]
                        ],
                        "type": "heatmap"
                      }
                    ],
                    "heatmapgl": [
                      {
                        "colorbar": {
                          "outlinewidth": 0,
                          "ticks": ""
                        },
                        "colorscale": [
                          [
                            0,
                            "#0d0887"
                          ],
                          [
                            0.1111111111111111,
                            "#46039f"
                          ],
                          [
                            0.2222222222222222,
                            "#7201a8"
                          ],
                          [
                            0.3333333333333333,
                            "#9c179e"
                          ],
                          [
                            0.4444444444444444,
                            "#bd3786"
                          ],
                          [
                            0.5555555555555556,
                            "#d8576b"
                          ],
                          [
                            0.6666666666666666,
                            "#ed7953"
                          ],
                          [
                            0.7777777777777778,
                            "#fb9f3a"
                          ],
                          [
                            0.8888888888888888,
                            "#fdca26"
                          ],
                          [
                            1,
                            "#f0f921"
                          ]
                        ],
                        "type": "heatmapgl"
                      }
                    ],
                    "histogram": [
                      {
                        "marker": {
                          "pattern": {
                            "fillmode": "overlay",
                            "size": 10,
                            "solidity": 0.2
                          }
                        },
                        "type": "histogram"
                      }
                    ],
                    "histogram2d": [
                      {
                        "colorbar": {
                          "outlinewidth": 0,
                          "ticks": ""
                        },
                        "colorscale": [
                          [
                            0,
                            "#0d0887"
                          ],
                          [
                            0.1111111111111111,
                            "#46039f"
                          ],
                          [
                            0.2222222222222222,
                            "#7201a8"
                          ],
                          [
                            0.3333333333333333,
                            "#9c179e"
                          ],
                          [
                            0.4444444444444444,
                            "#bd3786"
                          ],
                          [
                            0.5555555555555556,
                            "#d8576b"
                          ],
                          [
                            0.6666666666666666,
                            "#ed7953"
                          ],
                          [
                            0.7777777777777778,
                            "#fb9f3a"
                          ],
                          [
                            0.8888888888888888,
                            "#fdca26"
                          ],
                          [
                            1,
                            "#f0f921"
                          ]
                        ],
                        "type": "histogram2d"
                      }
                    ],
                    "histogram2dcontour": [
                      {
                        "colorbar": {
                          "outlinewidth": 0,
                          "ticks": ""
                        },
                        "colorscale": [
                          [
                            0,
                            "#0d0887"
                          ],
                          [
                            0.1111111111111111,
                            "#46039f"
                          ],
                          [
                            0.2222222222222222,
                            "#7201a8"
                          ],
                          [
                            0.3333333333333333,
                            "#9c179e"
                          ],
                          [
                            0.4444444444444444,
                            "#bd3786"
                          ],
                          [
                            0.5555555555555556,
                            "#d8576b"
                          ],
                          [
                            0.6666666666666666,
                            "#ed7953"
                          ],
                          [
                            0.7777777777777778,
                            "#fb9f3a"
                          ],
                          [
                            0.8888888888888888,
                            "#fdca26"
                          ],
                          [
                            1,
                            "#f0f921"
                          ]
                        ],
                        "type": "histogram2dcontour"
                      }
                    ],
                    "mesh3d": [
                      {
                        "colorbar": {
                          "outlinewidth": 0,
                          "ticks": ""
                        },
                        "type": "mesh3d"
                      }
                    ],
                    "parcoords": [
                      {
                        "line": {
                          "colorbar": {
                            "outlinewidth": 0,
                            "ticks": ""
                          }
                        },
                        "type": "parcoords"
                      }
                    ],
                    "pie": [
                      {
                        "automargin": true,
                        "type": "pie"
                      }
                    ],
                    "scatter": [
                      {
                        "fillpattern": {
                          "fillmode": "overlay",
                          "size": 10,
                          "solidity": 0.2
                        },
                        "type": "scatter"
                      }
                    ],
                    "scatter3d": [
                      {
                        "line": {
                          "colorbar": {
                            "outlinewidth": 0,
                            "ticks": ""
                          }
                        },
                        "marker": {
                          "colorbar": {
                            "outlinewidth": 0,
                            "ticks": ""
                          }
                        },
                        "type": "scatter3d"
                      }
                    ],
                    "scattercarpet": [
                      {
                        "marker": {
                          "colorbar": {
                            "outlinewidth": 0,
                            "ticks": ""
                          }
                        },
                        "type": "scattercarpet"
                      }
                    ],
                    "scattergeo": [
                      {
                        "marker": {
                          "colorbar": {
                            "outlinewidth": 0,
                            "ticks": ""
                          }
                        },
                        "type": "scattergeo"
                      }
                    ],
                    "scattergl": [
                      {
                        "marker": {
                          "colorbar": {
                            "outlinewidth": 0,
                            "ticks": ""
                          }
                        },
                        "type": "scattergl"
                      }
                    ],
                    "scattermapbox": [
                      {
                        "marker": {
                          "colorbar": {
                            "outlinewidth": 0,
                            "ticks": ""
                          }
                        },
                        "type": "scattermapbox"
                      }
                    ],
                    "scatterpolar": [
                      {
                        "marker": {
                          "colorbar": {
                            "outlinewidth": 0,
                            "ticks": ""
                          }
                        },
                        "type": "scatterpolar"
                      }
                    ],
                    "scatterpolargl": [
                      {
                        "marker": {
                          "colorbar": {
                            "outlinewidth": 0,
                            "ticks": ""
                          }
                        },
                        "type": "scatterpolargl"
                      }
                    ],
                    "scatterternary": [
                      {
                        "marker": {
                          "colorbar": {
                            "outlinewidth": 0,
                            "ticks": ""
                          }
                        },
                        "type": "scatterternary"
                      }
                    ],
                    "surface": [
                      {
                        "colorbar": {
                          "outlinewidth": 0,
                          "ticks": ""
                        },
                        "colorscale": [
                          [
                            0,
                            "#0d0887"
                          ],
                          [
                            0.1111111111111111,
                            "#46039f"
                          ],
                          [
                            0.2222222222222222,
                            "#7201a8"
                          ],
                          [
                            0.3333333333333333,
                            "#9c179e"
                          ],
                          [
                            0.4444444444444444,
                            "#bd3786"
                          ],
                          [
                            0.5555555555555556,
                            "#d8576b"
                          ],
                          [
                            0.6666666666666666,
                            "#ed7953"
                          ],
                          [
                            0.7777777777777778,
                            "#fb9f3a"
                          ],
                          [
                            0.8888888888888888,
                            "#fdca26"
                          ],
                          [
                            1,
                            "#f0f921"
                          ]
                        ],
                        "type": "surface"
                      }
                    ],
                    "table": [
                      {
                        "cells": {
                          "fill": {
                            "color": "#EBF0F8"
                          },
                          "line": {
                            "color": "white"
                          }
                        },
                        "header": {
                          "fill": {
                            "color": "#C8D4E3"
                          },
                          "line": {
                            "color": "white"
                          }
                        },
                        "type": "table"
                      }
                    ]
                  },
                  "layout": {
                    "annotationdefaults": {
                      "arrowcolor": "#2a3f5f",
                      "arrowhead": 0,
                      "arrowwidth": 1
                    },
                    "autotypenumbers": "strict",
                    "coloraxis": {
                      "colorbar": {
                        "outlinewidth": 0,
                        "ticks": ""
                      }
                    },
                    "colorscale": {
                      "diverging": [
                        [
                          0,
                          "#8e0152"
                        ],
                        [
                          0.1,
                          "#c51b7d"
                        ],
                        [
                          0.2,
                          "#de77ae"
                        ],
                        [
                          0.3,
                          "#f1b6da"
                        ],
                        [
                          0.4,
                          "#fde0ef"
                        ],
                        [
                          0.5,
                          "#f7f7f7"
                        ],
                        [
                          0.6,
                          "#e6f5d0"
                        ],
                        [
                          0.7,
                          "#b8e186"
                        ],
                        [
                          0.8,
                          "#7fbc41"
                        ],
                        [
                          0.9,
                          "#4d9221"
                        ],
                        [
                          1,
                          "#276419"
                        ]
                      ],
                      "sequential": [
                        [
                          0,
                          "#0d0887"
                        ],
                        [
                          0.1111111111111111,
                          "#46039f"
                        ],
                        [
                          0.2222222222222222,
                          "#7201a8"
                        ],
                        [
                          0.3333333333333333,
                          "#9c179e"
                        ],
                        [
                          0.4444444444444444,
                          "#bd3786"
                        ],
                        [
                          0.5555555555555556,
                          "#d8576b"
                        ],
                        [
                          0.6666666666666666,
                          "#ed7953"
                        ],
                        [
                          0.7777777777777778,
                          "#fb9f3a"
                        ],
                        [
                          0.8888888888888888,
                          "#fdca26"
                        ],
                        [
                          1,
                          "#f0f921"
                        ]
                      ],
                      "sequentialminus": [
                        [
                          0,
                          "#0d0887"
                        ],
                        [
                          0.1111111111111111,
                          "#46039f"
                        ],
                        [
                          0.2222222222222222,
                          "#7201a8"
                        ],
                        [
                          0.3333333333333333,
                          "#9c179e"
                        ],
                        [
                          0.4444444444444444,
                          "#bd3786"
                        ],
                        [
                          0.5555555555555556,
                          "#d8576b"
                        ],
                        [
                          0.6666666666666666,
                          "#ed7953"
                        ],
                        [
                          0.7777777777777778,
                          "#fb9f3a"
                        ],
                        [
                          0.8888888888888888,
                          "#fdca26"
                        ],
                        [
                          1,
                          "#f0f921"
                        ]
                      ]
                    },
                    "colorway": [
                      "#636efa",
                      "#EF553B",
                      "#00cc96",
                      "#ab63fa",
                      "#FFA15A",
                      "#19d3f3",
                      "#FF6692",
                      "#B6E880",
                      "#FF97FF",
                      "#FECB52"
                    ],
                    "font": {
                      "color": "#2a3f5f"
                    },
                    "geo": {
                      "bgcolor": "white",
                      "lakecolor": "white",
                      "landcolor": "#E5ECF6",
                      "showlakes": true,
                      "showland": true,
                      "subunitcolor": "white"
                    },
                    "hoverlabel": {
                      "align": "left"
                    },
                    "hovermode": "closest",
                    "mapbox": {
                      "style": "light"
                    },
                    "paper_bgcolor": "white",
                    "plot_bgcolor": "#E5ECF6",
                    "polar": {
                      "angularaxis": {
                        "gridcolor": "white",
                        "linecolor": "white",
                        "ticks": ""
                      },
                      "bgcolor": "#E5ECF6",
                      "radialaxis": {
                        "gridcolor": "white",
                        "linecolor": "white",
                        "ticks": ""
                      }
                    },
                    "scene": {
                      "xaxis": {
                        "backgroundcolor": "#E5ECF6",
                        "gridcolor": "white",
                        "gridwidth": 2,
                        "linecolor": "white",
                        "showbackground": true,
                        "ticks": "",
                        "zerolinecolor": "white"
                      },
                      "yaxis": {
                        "backgroundcolor": "#E5ECF6",
                        "gridcolor": "white",
                        "gridwidth": 2,
                        "linecolor": "white",
                        "showbackground": true,
                        "ticks": "",
                        "zerolinecolor": "white"
                      },
                      "zaxis": {
                        "backgroundcolor": "#E5ECF6",
                        "gridcolor": "white",
                        "gridwidth": 2,
                        "linecolor": "white",
                        "showbackground": true,
                        "ticks": "",
                        "zerolinecolor": "white"
                      }
                    },
                    "shapedefaults": {
                      "line": {
                        "color": "#2a3f5f"
                      }
                    },
                    "ternary": {
                      "aaxis": {
                        "gridcolor": "white",
                        "linecolor": "white",
                        "ticks": ""
                      },
                      "baxis": {
                        "gridcolor": "white",
                        "linecolor": "white",
                        "ticks": ""
                      },
                      "bgcolor": "#E5ECF6",
                      "caxis": {
                        "gridcolor": "white",
                        "linecolor": "white",
                        "ticks": ""
                      }
                    },
                    "title": {
                      "x": 0.05
                    },
                    "xaxis": {
                      "automargin": true,
                      "gridcolor": "white",
                      "linecolor": "white",
                      "ticks": "",
                      "title": {
                        "standoff": 15
                      },
                      "zerolinecolor": "white",
                      "zerolinewidth": 2
                    },
                    "yaxis": {
                      "automargin": true,
                      "gridcolor": "white",
                      "linecolor": "white",
                      "ticks": "",
                      "title": {
                        "standoff": 15
                      },
                      "zerolinecolor": "white",
                      "zerolinewidth": 2
                    }
                  }
                },
                "title": {
                  "text": "Geospatial Distribution of Thyroid Cancer Risk by Level"
                }
              }
            }
          },
          "metadata": {},
          "output_type": "display_data"
        }
      ],
      "source": [
        "\n",
        "fig_geo.update_layout(\n",
        "    coloraxis=dict(\n",
        "        colorbar=dict(\n",
        "            title=\"Risk Proportion (%)\",\n",
        "            tickvals=[0, 10, 20, 30, 40, 50, 60, 70, 80, 90, 100],  # More precise percentage values\n",
        "            ticktext=[\"0%\", \"10%\", \"20%\", \"30%\", \"40%\", \"50%\", \"60%\", \"70%\", \"80%\", \"90%\", \"100%\"],  # Explicit numeric labels in percentage\n",
        "             tickfont=dict(size=16)  # Increase font size for tick labels\n",
        "        )\n",
        "    ),\n",
        "    height=1600,  # Increase figure height for larger maps\n",
        "    margin={\"r\": 0, \"t\": 40, \"l\": 0, \"b\": 0}\n",
        ")\n",
        "\n",
        "fig_geo.show()\n"
      ]
    },
    {
      "cell_type": "markdown",
      "metadata": {},
      "source": [
        "Interpretation:\n",
        "\n",
        "Most countries show a similar risk distribution:\n",
        "Low risk (~53-54%) is the most common category.\n",
        "Medium risk (~35-36%) follows.\n",
        "High risk (~10-11%) is the least frequent in most countries.\n",
        "This suggests that thyroid cancer risk is generally low in most global regions.\n",
        "\n",
        "India Shows a Unique Risk Pattern\n",
        "High-risk individuals make up 32.86% of the population (significantly higher than other countries).\n",
        "Medium risk (26.86%) is lower than most other countries.\n",
        "Low risk (40.28%) is lower compared to other nations (~53%).\n",
        "Possible explanation: India may have environmental or genetic factors contributing to higher thyroid cancer risk.\n",
        "\n",
        "Countries such as Brazil, China, Germany, Japan, Nigeria, Russia, South Korea, UK, and USA all follow a pattern:\n",
        "High risk is ~10-11%.\n",
        "Medium risk is ~35-36%.\n",
        "Low risk is ~53-54%.\n",
        "This suggests similar healthcare screening, environmental exposure, or dietary factors across these countries.\n",
        "\n",
        "\n",
        "Japan (10.06%) and South Korea (10.50%) have the lowest high-risk proportions.\n",
        "This could be due to:\n",
        "Better preventive healthcare (e.g., early thyroid screening).\n",
        "Dietary factors (higher iodine intake from seafood).\n",
        "Genetic factors reducing risk.\n",
        "\n",
        "& Western Countries (UK & USA) Show Similar Trends. "
      ]
    },
    {
      "cell_type": "code",
      "execution_count": null,
      "metadata": {},
      "outputs": [],
      "source": []
    }
  ],
  "metadata": {
    "accelerator": "GPU",
    "colab": {
      "name": "Data Practitioner Jupyter Notebook.ipynb",
      "provenance": [],
      "toc_visible": true
    },
    "kernelspec": {
      "display_name": ".venv",
      "language": "python",
      "name": "python3"
    },
    "language_info": {
      "codemirror_mode": {
        "name": "ipython",
        "version": 3
      },
      "file_extension": ".py",
      "mimetype": "text/x-python",
      "name": "python",
      "nbconvert_exporter": "python",
      "pygments_lexer": "ipython3",
      "version": "3.12.8"
    },
    "orig_nbformat": 2
  },
  "nbformat": 4,
  "nbformat_minor": 2
}
